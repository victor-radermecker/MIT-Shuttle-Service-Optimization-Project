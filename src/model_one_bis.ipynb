{
 "cells": [
  {
   "cell_type": "code",
   "execution_count": 1,
   "metadata": {},
   "outputs": [],
   "source": [
    "using DataFrames, CSV\n",
    "using LinearAlgebra, Random, Printf, StatsBase, CategoricalArrays\n",
    "using Plots, StatsPlots, GRUtils\n",
    "using Distributions\n",
    "using Gurobi, JuMP"
   ]
  },
  {
   "cell_type": "code",
   "execution_count": 2,
   "metadata": {},
   "outputs": [],
   "source": [
    "# Constants\n",
    "N = 3 ; # number of passengers\n",
    "K = 3 ;  # number of shuttles"
   ]
  },
  {
   "cell_type": "code",
   "execution_count": 3,
   "metadata": {},
   "outputs": [
    {
     "data": {
      "text/plain": [
       "8×8 Matrix{Float64}:\n",
       " 1.2  4.0  1.2  4.5  1.2  0.9  1.2   0.9\n",
       " 3.0  3.0  3.2  1.4  1.6  0.6  0.7   0.5\n",
       " 1.4  5.0  4.6  1.9  3.8  3.0  0.4   0.2\n",
       " 1.9  2.0  1.9  2.5  2.5  5.0  1.8   1.5\n",
       " 2.5  1.0  2.4  1.2  6.2  2.0  1.3   1.7\n",
       " 1.2  5.0  1.9  4.0  4.5  1.2  0.9   1.2\n",
       " 4.0  2.0  2.5  2.0  2.1  2.4  6.5  18.3\n",
       " 2.0  1.0  1.2  3.0  3.0  5.0  4.6   1.9"
      ]
     },
     "execution_count": 3,
     "metadata": {},
     "output_type": "execute_result"
    }
   ],
   "source": [
    "# Use this cost later to load costs from BingsMap. For now, we will simply use the euclidian distance as shown below.\n",
    "c = Matrix(DataFrame(CSV.File(\"../SimulatedCosts.csv\")))\n",
    "c = c[:, 2:size(c)[2]];\n",
    "\n",
    "t = c  #let's consider in this initial model that the travel cost and the time and equivalent. "
   ]
  },
  {
   "cell_type": "code",
   "execution_count": 4,
   "metadata": {},
   "outputs": [
    {
     "data": {
      "text/plain": [
       "8×8 Matrix{Float64}:\n",
       " 0.0       0.291247  0.150659  0.743121  …  0.693661  1.31528   0.0\n",
       " 0.291247  0.0       0.326118  0.620831     0.488037  1.03742   0.291247\n",
       " 0.150659  0.326118  0.0       0.869122     0.789801  1.28146   0.150659\n",
       " 0.743121  0.620831  0.869122  0.0          0.238253  1.26881   0.743121\n",
       " 0.668374  0.379722  0.697821  0.585946     0.353577  0.733003  0.668374\n",
       " 0.693661  0.488037  0.789801  0.238253  …  0.0       1.03335   0.693661\n",
       " 1.31528   1.03742   1.28146   1.26881      1.03335   0.0       1.31528\n",
       " 0.0       0.291247  0.150659  0.743121     0.693661  1.31528   0.0"
      ]
     },
     "execution_count": 4,
     "metadata": {},
     "output_type": "execute_result"
    }
   ],
   "source": [
    "# Data\n",
    "data = Matrix(DataFrame(CSV.File(\"../SimulatedDataTest.csv\")));\n",
    "\n",
    "q = data[1:2*N+2, 4];\n",
    "d = data[1:2*N+2, 5];\n",
    "e = data[1:2*N+2, 7];\n",
    "l = data[1:2*N+2, 8];\n",
    "\n",
    "#compute costs/time as euclidian distance.\n",
    "c = zeros(2 * N + 2, 2 * N + 2)\n",
    "for i = 1:2*N+2\n",
    "    for j = 1:2*N+2\n",
    "        c[i, j] = norm(data[i, 2:3] - data[j, 2:3]) / 10\n",
    "    end\n",
    "end\n",
    "\n",
    "t = c  #let's consider in this initial model that the travel cost and the time and equivalent. "
   ]
  },
  {
   "cell_type": "markdown",
   "metadata": {},
   "source": [
    "### The model"
   ]
  },
  {
   "cell_type": "code",
   "execution_count": 5,
   "metadata": {},
   "outputs": [
    {
     "name": "stdout",
     "output_type": "stream",
     "text": [
      "Set parameter Username\n",
      "Academic license - for non-commercial use only - expires 2023-08-17\n"
     ]
    }
   ],
   "source": [
    "model = Model(Gurobi.Optimizer)\n",
    "\n",
    "V = [1, 2, 3, 4, 5, 6, 7, 8]   # all vertices\n",
    "P = [2, 3, 4]             # pick up vertices\n",
    "D = [5, 6, 7]             # drop off vertices\n",
    "PUD = [2, 3, 4, 5, 6, 7]     # all pick up and drop off vertices together (all vertices except depot)\n",
    "\n",
    "T = [100, 100, 100]       # maximum duration of route k\n",
    "L = 100                  # maximum time of a drive\n",
    "Q = [3, 3, 3]             # capacity of each car\n",
    "\n",
    "# Variables\n",
    "@variable(model, x[1:2*N+2, 1:2*N+2, 1:K] >= 0, Bin)   # x[i, j, k] = 1 if we go from node i to node j with vehicle k.\n",
    "@variable(model, w[1:2*N+2, 1:K] >= 0, Int)            # w[i,k] load of vehicle k when arriving upon leaving vertex i\n",
    "@variable(model, r[1:N, 1:K] >= 0)                          # r[i,k] travel time of passenger i (Note that passenger i is identified by) the vertex i+1\n",
    "\n",
    "@variable(model, u[1:2*N+2, 1:K] >= 0)                 # u[i,k] time as which the vertex i is served by vehicle k\n",
    "# @variable(model, u_depot[1:2, 1:K] >= 0)\n",
    "# @variable(model, u[1:2*N] >= 0)\n",
    "# @variable(model, u[[1:K],1:2*N,[1:K]] >= 0) #------< MAKE THAT MORE ELEGANT WHEN I WILL HAVE INTERNET.\n",
    "\n",
    "\n",
    "#############  Constraints  #############\n",
    "\n",
    "# only one car can bring passenger {i, i+N} to its final destination.\n",
    "@constraint(model, [i in P], sum(sum(x[i, j, k] for j in V) for k = 1:K) == 1)\n",
    "\n",
    "# each vehicle starts at the depot\n",
    "@constraint(model, [k = 1:K], sum(x[1, j, k] for j in V) == 1)\n",
    "\n",
    "# each vehicle ends at the depot\n",
    "@constraint(model, [k = 1:K], sum(x[i, 2*N+2, k] for i in V) == 1)\n",
    "\n",
    "# each passenger is picked and droped by the same car\n",
    "@constraint(model, [i in P, k = 1:K], sum(x[i, j, k] for j in V) - sum(x[i+N, j, k] for j in V) == 0)\n",
    "\n",
    "# vehicle k follows the edges sequentially\n",
    "@constraint(model, [i in PUD, k = 1:K], sum(x[j, i, k] for j in V) - sum(x[i, j, k] for j in V) == 0)\n",
    "\n",
    "#### -------- CORRETIONS ######\n",
    "\n",
    "# the time served of vertex i\n",
    "@constraint(model, [i in V, j in V, k = 1:K], u[j, k] >= (u[i, k] + d[i] + t[i, j]) * x[i, j, k])\n",
    "\n",
    "# respecting travel window of passenger i\n",
    "@constraint(model, [i in V, k = 1:K], e[i] <= u[i,k])\n",
    "@constraint(model, [i in V, k = 1:K], u[i,k] <= l[i])\n",
    "\n",
    "# PREVIOUS updating the travel time of passenger i\n",
    "@constraint(model, [i in P, k = 1:K], r[i-1,k] == u[N+i, k] - (u[i, k] + d[i]))\n",
    "\n",
    "# respecting travel window of passenger i\n",
    "@constraint(model, [i in P], t[i, N+i] <= r[i-1])\n",
    "\n",
    "# respecting each car's capacity\n",
    "@constraint(model, [i in V, k = 1:K], max(0, q[i]) <= w[i, k])\n",
    "@constraint(model, [i in V, k = 1:K], w[i, k] <= min(Q[k], Q[k] + q[i]))\n",
    "\n",
    "# updating the load of the vehicle\n",
    "@constraint(model, [i in V, j in V, k = 1:K], w[j, k] >= (w[i, k] + q[j]) * x[i, j, k])\n",
    "\n",
    "# ---> Let's try to fix the load problem: the load was not null for the useless cars. This was fixed.\n",
    "@constraint(model, [i in V, k = 1:K], sum(x[:,i,k])*q[i] <= w[i, k])\n",
    "@constraint(model, [i in V, k = 1:K], 0 <= w[i, k])\n",
    "\n",
    "@constraint(model, [i in V, k = 1:K], w[i, k] <= sum(x[:,i,k])*Q[k])\n",
    "@constraint(model, [i in V, k = 1:K], w[i, k] <= Q[k] + sum(x[:,i,k])*q[i])\n",
    "\n",
    "### --- ADDITIONAL CONSTRAINTS -----\n",
    "\n",
    "# Pick up before drop off\n",
    "@constraint(model, [i in P], u[i-1] <= u[N+i-1])\n",
    "\n",
    "# # No passengers at the beginning / end\n",
    "# @constraint(model, [k = 1:K], w[1, k] == 0)\n",
    "# @constraint(model, [k = 1:K], w[2*N+2, k] == 0)\n",
    "\n",
    "# objective\n",
    "@objective(model, Min, sum(sum(sum(c[i, j] * x[i, j, k] for k = 1:K) for i in V) for j in V));\n",
    "\n",
    "# Objective with a penalty function in the ride time and on the load of each car\n",
    "# @objective(model, Min, sum(sum(sum(c[i, j] * x[i, j, k] for k = 1:K) for i in V) for j in V) + sum(w) + sum(u) + sum(u_depot) + sum(x));"
   ]
  },
  {
   "cell_type": "code",
   "execution_count": 6,
   "metadata": {},
   "outputs": [
    {
     "name": "stdout",
     "output_type": "stream",
     "text": [
      "Gurobi Optimizer version 9.5.2 build v9.5.2rc0 (mac64[arm])\n",
      "Thread count: 10 physical cores, 10 logical processors, using up to 10 threads\n",
      "Optimize a model with 243 rows, 249 columns and 1224 nonzeros\n",
      "Model fingerprint: 0xcdd3400f\n",
      "Model has 384 quadratic constraints\n",
      "Variable types: 33 continuous, 216 integer (192 binary)\n",
      "Coefficient statistics:\n",
      "  Matrix range     [1e+00, 3e+00]\n",
      "  QMatrix range    [1e+00, 1e+00]\n",
      "  QLMatrix range   [2e-01, 3e+00]\n",
      "  Objective range  [2e-01, 1e+00]\n",
      "  Bounds range     [0e+00, 0e+00]\n",
      "  RHS range        [4e-01, 1e+03]\n",
      "Presolve added 64 rows and 0 columns\n",
      "Presolve removed 0 rows and 69 columns\n",
      "Presolve time: 0.00s\n",
      "\n",
      "Explored 0 nodes (0 simplex iterations) in 0.01 seconds (0.00 work units)\n",
      "Thread count was 1 (of 10 available processors)\n",
      "\n",
      "Solution count 0\n",
      "\n",
      "Model is infeasible\n",
      "Best objective -, best bound -, gap -\n",
      "\n",
      "User-callback calls 144, time in user-callback 0.00 sec\n"
     ]
    }
   ],
   "source": [
    "optimize!(model)"
   ]
  },
  {
   "cell_type": "code",
   "execution_count": null,
   "metadata": {},
   "outputs": [],
   "source": []
  }
 ],
 "metadata": {
  "kernelspec": {
   "display_name": "Julia 1.8.0",
   "language": "julia",
   "name": "julia-1.8"
  },
  "language_info": {
   "file_extension": ".jl",
   "mimetype": "application/julia",
   "name": "julia",
   "version": "1.8.0"
  },
  "orig_nbformat": 4,
  "vscode": {
   "interpreter": {
    "hash": "b0fa6594d8f4cbf19f97940f81e996739fb7646882a419484c72d19e05852a7e"
   }
  }
 },
 "nbformat": 4,
 "nbformat_minor": 2
}
