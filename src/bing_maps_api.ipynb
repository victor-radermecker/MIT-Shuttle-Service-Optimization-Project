{
 "cells": [
  {
   "cell_type": "code",
   "execution_count": 28,
   "metadata": {},
   "outputs": [],
   "source": [
    "import os\n",
    "import sys\n",
    "\n",
    "import branca.colormap as cm\n",
    "import numpy as np\n",
    "import pandas as pd\n",
    "from shapely.geometry import LineString, Point, Polygon\n",
    "\n",
    "sys.path.insert(0, \"../src\")\n",
    "import json\n",
    "import time as ti\n",
    "import math\n",
    "\n",
    "import geopandas as gpd\n",
    "import seaborn as sns\n",
    "from tqdm import tqdm\n",
    "import seaborn as sns \n",
    "from IPython.display import display, Math, Latex\n",
    "import requests\n",
    "\n",
    "import urllib.request\n",
    "\n",
    "pd.set_option(\"display.max_rows\", 500)\n",
    "pd.set_option(\"display.max_columns\", 500)"
   ]
  },
  {
   "cell_type": "markdown",
   "metadata": {},
   "source": [
    "# Now let's try to compute the distance OD Matrix between these points\n",
    "\n",
    "First, let's define the function need to perform the HTTP GET request. All the assumptions regarding this matrix are under this first link below.\n",
    "\n",
    "- Resources: https://docs.microsoft.com/en-us/bingmaps/rest-services/examples/distance-matrix-asynchronous-example\n",
    "\n",
    "- Example: https://docs.microsoft.com/en-us/bingmaps/rest-services/examples/distance-matrix-example"
   ]
  },
  {
   "cell_type": "markdown",
   "metadata": {},
   "source": [
    "The HTTP GET request works as follow:\n",
    "\n",
    "https://dev.virtualearth.net/REST/v1/Routes/DistanceMatrix?origins={lat0,long0;lat1,lon1;latM,lonM}&destinations={lat0,lon0;lat1,lon1;latN,longN}&travelMode={travelMode}&startTime={startTime}&timeUnit={timeUnit}&key={BingMapsKey}\n",
    "\n",
    "- origins: list of lat, long coordinates of origins\n",
    "- destionations: list of lat, long coordinates of destinations\n",
    "- travelMode: `Driving`\n",
    "- startTime: `2021-11-15-07:00`\n",
    "- timeUnit\n",
    "- BingMapsKey"
   ]
  },
  {
   "cell_type": "code",
   "execution_count": 29,
   "metadata": {},
   "outputs": [],
   "source": [
    "def get_data(orig, dest, size_x, size_y):\n",
    "    # Your Bing Maps Key\n",
    "    bingMapsKey = \"Ah52Budr_8V_sE1HKdPH-INIK_RDqas1zgkSJwdtB3GW3Dm04DsNm3lzkoXmpPc9\"\n",
    "\n",
    "    # input information\n",
    "    travelMode = \"Driving\"\n",
    "    startTime = \"2021-11-15-07:00\"\n",
    "    distanceUnit = \"miles\"\n",
    "    timeUnit = \"minute\"\n",
    "\n",
    "    routeUrl = (\n",
    "        \"https://dev.virtualearth.net/REST/v1/Routes/DistanceMatrix?\"\n",
    "        + f\"origins={orig}\"\n",
    "        + f\"&destinations={dest}\"\n",
    "        + f\"&travelMode={travelMode}\"\n",
    "        + f\"&startTime={startTime}\"\n",
    "        + f\"&timeUnit={timeUnit}\"\n",
    "        + f\"&key={bingMapsKey}\"\n",
    "    )\n",
    "\n",
    "    # request = urllib.request.Request(routeUrl)\n",
    "    # response = urllib.request.urlopen(request, proxies={\"http\":\"http://myproxy:3129\"})\n",
    "    # data = json.load(response)\n",
    "\n",
    "    response = requests.get(routeUrl)\n",
    "    data = response.json()\n",
    "\n",
    "    distance, time = build_od_matrix(data, (size_x, size_y))\n",
    "    return distance, time"
   ]
  },
  {
   "cell_type": "code",
   "execution_count": 30,
   "metadata": {},
   "outputs": [],
   "source": [
    "def build_od_matrix(data, size):\n",
    "\n",
    "    resources = data[\"resourceSets\"][0][\"resources\"][0][\"results\"]\n",
    "\n",
    "    distance = np.zeros((size[0], size[1]))\n",
    "    time = np.zeros((size[0], size[1]))\n",
    "\n",
    "    for i in range(size[0]):\n",
    "        for j in range(size[1]):\n",
    "            distance[i, j] = resources[i * size[1] + j][\"travelDistance\"]\n",
    "            time[i, j] = resources[i * size[1] + j][\"travelDuration\"]\n",
    "\n",
    "    return distance, time\n",
    "    "
   ]
  },
  {
   "cell_type": "markdown",
   "metadata": {},
   "source": [
    "# Loading the data"
   ]
  },
  {
   "cell_type": "code",
   "execution_count": 31,
   "metadata": {},
   "outputs": [
    {
     "name": "stderr",
     "output_type": "stream",
     "text": [
      "/var/folders/hk/nxk7bnsj4kq9nwsmnmdtzhb80000gn/T/ipykernel_18201/453920896.py:7: FutureWarning: The frame.append method is deprecated and will be removed from pandas in a future version. Use pandas.concat instead.\n",
      "  destinations = shuttle_stops.append(residences[[\"Residence\",\"Lat\",\"Long\"]].rename(columns={\"Residence\":\"Name\"}))\n",
      "/var/folders/hk/nxk7bnsj4kq9nwsmnmdtzhb80000gn/T/ipykernel_18201/453920896.py:8: FutureWarning: The frame.append method is deprecated and will be removed from pandas in a future version. Use pandas.concat instead.\n",
      "  destinations = destinations.append(mit_buildings[[\"Name\",\"Lat\",\"Long\"]])\n"
     ]
    }
   ],
   "source": [
    "# load the housing data\n",
    "residences = pd.read_csv('../HousingData.csv')\n",
    "mit_buildings = pd.read_csv('../MIT_Buildings.csv')\n",
    "shuttle_stops = pd.read_csv(\"../current_stops.csv\").rename(columns={\"Station Name\": \"Name\"})\n",
    "\n",
    "origins = residences[[\"Residence\", \"Long\", \"Lat\"]].rename(columns={\"Residence\": \"Name\"})\n",
    "destinations = shuttle_stops.append(residences[[\"Residence\",\"Lat\",\"Long\"]].rename(columns={\"Residence\":\"Name\"}))\n",
    "destinations = destinations.append(mit_buildings[[\"Name\",\"Lat\",\"Long\"]])\n",
    "\n",
    "# save origins and destionations to CSV\n",
    "origins.to_csv(\"../origins.csv\", index=False)\n",
    "destinations.to_csv(\"../destinations.csv\", index=False)"
   ]
  },
  {
   "cell_type": "code",
   "execution_count": null,
   "metadata": {},
   "outputs": [],
   "source": []
  },
  {
   "cell_type": "code",
   "execution_count": 32,
   "metadata": {},
   "outputs": [],
   "source": [
    "N_o = origins.shape[0]\n",
    "N_d = destinations.shape[0]\n",
    "\n",
    "# Matrix Initialization\n",
    "distance_matrix = np.zeros((N_o, N_d))\n",
    "time_matrix = np.zeros((N_o, N_d))"
   ]
  },
  {
   "cell_type": "code",
   "execution_count": 33,
   "metadata": {},
   "outputs": [],
   "source": [
    "# Compute the list of origin-destinations points\n",
    "long = list(origins[\"Long\"])\n",
    "lat = list(origins[\"Lat\"])\n",
    "\n",
    "or_points = []\n",
    "for i, j in zip(lat, long):\n",
    "    or_points.append(str(i) + \",\" + str(j))\n",
    "\n",
    "# Compute the list of origin-destinations points\n",
    "long = list(destinations[\"Long\"])\n",
    "lat = list(destinations[\"Lat\"])\n",
    "\n",
    "des_points = []\n",
    "for i, j in zip(lat, long):\n",
    "    des_points.append(str(i) + \",\" + str(j))\n",
    "\n",
    "or_points = \";\".join(or_points)\n",
    "des_points = \";\".join(des_points)"
   ]
  },
  {
   "cell_type": "code",
   "execution_count": 34,
   "metadata": {},
   "outputs": [],
   "source": [
    "distance_matrix, time_matrix = get_data(\n",
    "    or_points, des_points, size_x=int(N_o), size_y=int(N_d)\n",
    ")"
   ]
  },
  {
   "cell_type": "code",
   "execution_count": 35,
   "metadata": {},
   "outputs": [],
   "source": [
    "distances = pd.DataFrame(distance_matrix)\n",
    "\n",
    "# give a destination to each column name\n",
    "distances.columns = destinations[\"Name\"]\n",
    "distances.index = origins[\"Name\"]\n",
    "\n",
    "# Reshape dataframe to long dataframe\n",
    "distances = distances.reset_index()\n",
    "distances = pd.melt(distances, id_vars=['Name'], value_vars=distances.columns.values.tolist()[1:], var_name='Destination', value_name='Distance')"
   ]
  },
  {
   "cell_type": "code",
   "execution_count": 36,
   "metadata": {},
   "outputs": [],
   "source": [
    "times = pd.DataFrame(time_matrix)\n",
    "\n",
    "# give a destination to each column name\n",
    "times.columns = destinations[\"Name\"]\n",
    "times.index = origins[\"Name\"]\n",
    "\n",
    "# Reshape dataframe to long dataframe\n",
    "times = times.reset_index()\n",
    "times.to_csv(\"../origin_destination_times.csv\", index=False)\n",
    "times = pd.melt(times, id_vars=['Name'], value_vars=times.columns.values.tolist()[1:], var_name='Destination', value_name='Time (min)')"
   ]
  },
  {
   "cell_type": "code",
   "execution_count": 37,
   "metadata": {},
   "outputs": [
    {
     "data": {
      "text/html": [
       "<div>\n",
       "<style scoped>\n",
       "    .dataframe tbody tr th:only-of-type {\n",
       "        vertical-align: middle;\n",
       "    }\n",
       "\n",
       "    .dataframe tbody tr th {\n",
       "        vertical-align: top;\n",
       "    }\n",
       "\n",
       "    .dataframe thead th {\n",
       "        text-align: right;\n",
       "    }\n",
       "</style>\n",
       "<table border=\"1\" class=\"dataframe\">\n",
       "  <thead>\n",
       "    <tr style=\"text-align: right;\">\n",
       "      <th></th>\n",
       "      <th>Origin</th>\n",
       "      <th>Destination</th>\n",
       "      <th>Distance</th>\n",
       "      <th>Time (min)</th>\n",
       "    </tr>\n",
       "  </thead>\n",
       "  <tbody>\n",
       "    <tr>\n",
       "      <th>0</th>\n",
       "      <td>Baker House</td>\n",
       "      <td>Kendall Square T</td>\n",
       "      <td>2.752</td>\n",
       "      <td>7.6167</td>\n",
       "    </tr>\n",
       "    <tr>\n",
       "      <th>1</th>\n",
       "      <td>Burton Conner</td>\n",
       "      <td>Kendall Square T</td>\n",
       "      <td>2.578</td>\n",
       "      <td>8.0167</td>\n",
       "    </tr>\n",
       "    <tr>\n",
       "      <th>2</th>\n",
       "      <td>East Campus</td>\n",
       "      <td>Kendall Square T</td>\n",
       "      <td>0.520</td>\n",
       "      <td>1.8500</td>\n",
       "    </tr>\n",
       "    <tr>\n",
       "      <th>3</th>\n",
       "      <td>MacGregor House</td>\n",
       "      <td>Kendall Square T</td>\n",
       "      <td>2.497</td>\n",
       "      <td>7.9667</td>\n",
       "    </tr>\n",
       "    <tr>\n",
       "      <th>4</th>\n",
       "      <td>Maseeh Hall</td>\n",
       "      <td>Kendall Square T</td>\n",
       "      <td>1.124</td>\n",
       "      <td>3.9333</td>\n",
       "    </tr>\n",
       "  </tbody>\n",
       "</table>\n",
       "</div>"
      ],
      "text/plain": [
       "            Origin       Destination  Distance  Time (min)\n",
       "0      Baker House  Kendall Square T     2.752      7.6167\n",
       "1    Burton Conner  Kendall Square T     2.578      8.0167\n",
       "2      East Campus  Kendall Square T     0.520      1.8500\n",
       "3  MacGregor House  Kendall Square T     2.497      7.9667\n",
       "4      Maseeh Hall  Kendall Square T     1.124      3.9333"
      ]
     },
     "execution_count": 37,
     "metadata": {},
     "output_type": "execute_result"
    }
   ],
   "source": [
    "distances[\"Time (min)\"] = times[\"Time (min)\"]\n",
    "distances = distances.rename(columns={\"Name\": \"Origin\"})\n",
    "distances.head()"
   ]
  },
  {
   "cell_type": "code",
   "execution_count": 38,
   "metadata": {},
   "outputs": [],
   "source": [
    "distances.to_csv(\"../origin_destination_distances.csv\", index=False)"
   ]
  },
  {
   "cell_type": "code",
   "execution_count": 39,
   "metadata": {},
   "outputs": [
    {
     "data": {
      "text/html": [
       "<div>\n",
       "<style scoped>\n",
       "    .dataframe tbody tr th:only-of-type {\n",
       "        vertical-align: middle;\n",
       "    }\n",
       "\n",
       "    .dataframe tbody tr th {\n",
       "        vertical-align: top;\n",
       "    }\n",
       "\n",
       "    .dataframe thead th {\n",
       "        text-align: right;\n",
       "    }\n",
       "</style>\n",
       "<table border=\"1\" class=\"dataframe\">\n",
       "  <thead>\n",
       "    <tr style=\"text-align: right;\">\n",
       "      <th></th>\n",
       "      <th>Name</th>\n",
       "      <th>Destination</th>\n",
       "      <th>Time (min)</th>\n",
       "    </tr>\n",
       "  </thead>\n",
       "  <tbody>\n",
       "    <tr>\n",
       "      <th>0</th>\n",
       "      <td>Baker House</td>\n",
       "      <td>Kendall Square T</td>\n",
       "      <td>7.6167</td>\n",
       "    </tr>\n",
       "    <tr>\n",
       "      <th>1</th>\n",
       "      <td>Burton Conner</td>\n",
       "      <td>Kendall Square T</td>\n",
       "      <td>8.0167</td>\n",
       "    </tr>\n",
       "    <tr>\n",
       "      <th>2</th>\n",
       "      <td>East Campus</td>\n",
       "      <td>Kendall Square T</td>\n",
       "      <td>1.8500</td>\n",
       "    </tr>\n",
       "    <tr>\n",
       "      <th>3</th>\n",
       "      <td>MacGregor House</td>\n",
       "      <td>Kendall Square T</td>\n",
       "      <td>7.9667</td>\n",
       "    </tr>\n",
       "    <tr>\n",
       "      <th>4</th>\n",
       "      <td>Maseeh Hall</td>\n",
       "      <td>Kendall Square T</td>\n",
       "      <td>3.9333</td>\n",
       "    </tr>\n",
       "    <tr>\n",
       "      <th>...</th>\n",
       "      <td>...</td>\n",
       "      <td>...</td>\n",
       "      <td>...</td>\n",
       "    </tr>\n",
       "    <tr>\n",
       "      <th>915</th>\n",
       "      <td>Sidney-Pacific</td>\n",
       "      <td>MIT Plasma Science and Fusion Center</td>\n",
       "      <td>1.7333</td>\n",
       "    </tr>\n",
       "    <tr>\n",
       "      <th>916</th>\n",
       "      <td>Tang Hall</td>\n",
       "      <td>MIT Plasma Science and Fusion Center</td>\n",
       "      <td>4.8167</td>\n",
       "    </tr>\n",
       "    <tr>\n",
       "      <th>917</th>\n",
       "      <td>The Warehouse</td>\n",
       "      <td>MIT Plasma Science and Fusion Center</td>\n",
       "      <td>1.3000</td>\n",
       "    </tr>\n",
       "    <tr>\n",
       "      <th>918</th>\n",
       "      <td>Westgate Apartments</td>\n",
       "      <td>MIT Plasma Science and Fusion Center</td>\n",
       "      <td>4.1167</td>\n",
       "    </tr>\n",
       "    <tr>\n",
       "      <th>919</th>\n",
       "      <td>100 Memorial</td>\n",
       "      <td>MIT Plasma Science and Fusion Center</td>\n",
       "      <td>6.4000</td>\n",
       "    </tr>\n",
       "  </tbody>\n",
       "</table>\n",
       "<p>920 rows × 3 columns</p>\n",
       "</div>"
      ],
      "text/plain": [
       "                    Name                           Destination  Time (min)\n",
       "0            Baker House                      Kendall Square T      7.6167\n",
       "1          Burton Conner                      Kendall Square T      8.0167\n",
       "2            East Campus                      Kendall Square T      1.8500\n",
       "3        MacGregor House                      Kendall Square T      7.9667\n",
       "4            Maseeh Hall                      Kendall Square T      3.9333\n",
       "..                   ...                                   ...         ...\n",
       "915       Sidney-Pacific  MIT Plasma Science and Fusion Center      1.7333\n",
       "916            Tang Hall  MIT Plasma Science and Fusion Center      4.8167\n",
       "917        The Warehouse  MIT Plasma Science and Fusion Center      1.3000\n",
       "918  Westgate Apartments  MIT Plasma Science and Fusion Center      4.1167\n",
       "919         100 Memorial  MIT Plasma Science and Fusion Center      6.4000\n",
       "\n",
       "[920 rows x 3 columns]"
      ]
     },
     "execution_count": 39,
     "metadata": {},
     "output_type": "execute_result"
    }
   ],
   "source": [
    "times"
   ]
  },
  {
   "cell_type": "code",
   "execution_count": 40,
   "metadata": {},
   "outputs": [],
   "source": [
    "times = pd.DataFrame(time_matrix)\n",
    "times.columns = destinations[\"Name\"]\n",
    "times.index = origins[\"Name\"]\n",
    "\n",
    "# Reshape dataframe to long dataframe\n",
    "times = times.reset_index()"
   ]
  },
  {
   "cell_type": "code",
   "execution_count": null,
   "metadata": {},
   "outputs": [],
   "source": []
  }
 ],
 "metadata": {
  "kernelspec": {
   "display_name": "Python 3.10.6 ('optim_env')",
   "language": "python",
   "name": "python3"
  },
  "language_info": {
   "codemirror_mode": {
    "name": "ipython",
    "version": 3
   },
   "file_extension": ".py",
   "mimetype": "text/x-python",
   "name": "python",
   "nbconvert_exporter": "python",
   "pygments_lexer": "ipython3",
   "version": "3.10.6"
  },
  "orig_nbformat": 4,
  "vscode": {
   "interpreter": {
    "hash": "47fe5effe95bc4486b2b552394ae2aa95aa0338880c0f05d417b502ddec62622"
   }
  }
 },
 "nbformat": 4,
 "nbformat_minor": 2
}
