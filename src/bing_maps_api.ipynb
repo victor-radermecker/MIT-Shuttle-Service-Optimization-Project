{
 "cells": [
  {
   "cell_type": "code",
   "execution_count": 2,
   "metadata": {},
   "outputs": [
    {
     "ename": "ImportError",
     "evalue": "dlopen(/opt/homebrew/Caskroom/miniconda/base/envs/optim_env/lib/python3.10/site-packages/scipy/sparse/linalg/_isolve/_iterative.cpython-310-darwin.so, 0x0002): Library not loaded: @rpath/liblapack.3.dylib\n  Referenced from: <78036CAA-82A0-3FC2-9DF1-A2F5970A489B> /opt/homebrew/Caskroom/miniconda/base/envs/optim_env/lib/python3.10/site-packages/scipy/sparse/linalg/_isolve/_iterative.cpython-310-darwin.so\n  Reason: tried: '/opt/homebrew/Caskroom/miniconda/base/envs/optim_env/lib/python3.10/site-packages/scipy/sparse/linalg/_isolve/liblapack.3.dylib' (no such file), '/opt/homebrew/Caskroom/miniconda/base/envs/optim_env/lib/python3.10/site-packages/scipy/sparse/linalg/_isolve/../../../../../../liblapack.3.dylib' (no such file), '/opt/homebrew/Caskroom/miniconda/base/envs/optim_env/lib/python3.10/site-packages/scipy/sparse/linalg/_isolve/liblapack.3.dylib' (no such file), '/opt/homebrew/Caskroom/miniconda/base/envs/optim_env/lib/python3.10/site-packages/scipy/sparse/linalg/_isolve/../../../../../../liblapack.3.dylib' (no such file), '/opt/homebrew/Caskroom/miniconda/base/envs/optim_env/bin/../lib/liblapack.3.dylib' (no such file), '/opt/homebrew/Caskroom/miniconda/base/envs/optim_env/bin/../lib/liblapack.3.dylib' (no such file), '/System/Volumes/Preboot/Cryptexes/OS@rpath/liblapack.3.dylib' (no such file), '/opt/homebrew/Caskroom/miniconda/base/envs/optim_env/lib/python3.10/site-packages/scipy/sparse/linalg/_isolve/liblapack.3.dylib' (no such file), '/opt/homebrew/Caskroom/miniconda/base/envs/optim_env/lib/python3.10/site-packages/scipy/sparse/linalg/_isolve/../../../../../../liblapack.3.dylib' (no such file), '/opt/homebrew/Caskroom/miniconda/base/envs/optim_env/lib/python3.10/site-packages/scipy/sparse/linalg/_isolve/liblapack.3.dylib' (no such file), '/opt/homebrew/Caskroom/miniconda/base/envs/optim_env/lib/python3.10/site-packages/scipy/sparse/linalg/_isolve/../../../../../../liblapack.3.dylib' (no such file), '/opt/homebrew/Caskroom/miniconda/base/envs/optim_env/bin/../lib/liblapack.3.dylib' (no such file), '/opt/homebrew/Caskroom/miniconda/base/envs/optim_env/bin/../lib/liblapack.3.dylib' (no such file), '/usr/local/lib/liblapack.3.dylib' (no such file), '/usr/lib/liblapack.3.dylib' (no such file, not in dyld cache)",
     "output_type": "error",
     "traceback": [
      "\u001b[0;31m---------------------------------------------------------------------------\u001b[0m",
      "\u001b[0;31mImportError\u001b[0m                               Traceback (most recent call last)",
      "\u001b[1;32m/Users/victor/My Drive (victorr@mit.edu)/Documents importants/Academic/MIT/Fall/15_093_Optimization/Project/OptimizationProject_DARP/src/bing_maps_api.ipynb Cell 1\u001b[0m in \u001b[0;36m<cell line: 16>\u001b[0;34m()\u001b[0m\n\u001b[1;32m     <a href='vscode-notebook-cell:/Users/victor/My%20Drive%20%28victorr%40mit.edu%29/Documents%20importants/Academic/MIT/Fall/15_093_Optimization/Project/OptimizationProject_DARP/src/bing_maps_api.ipynb#W0sZmlsZQ%3D%3D?line=13'>14</a>\u001b[0m \u001b[39mimport\u001b[39;00m \u001b[39mgeopandas\u001b[39;00m \u001b[39mas\u001b[39;00m \u001b[39mgpd\u001b[39;00m\n\u001b[1;32m     <a href='vscode-notebook-cell:/Users/victor/My%20Drive%20%28victorr%40mit.edu%29/Documents%20importants/Academic/MIT/Fall/15_093_Optimization/Project/OptimizationProject_DARP/src/bing_maps_api.ipynb#W0sZmlsZQ%3D%3D?line=14'>15</a>\u001b[0m \u001b[39mimport\u001b[39;00m \u001b[39mseaborn\u001b[39;00m \u001b[39mas\u001b[39;00m \u001b[39msns\u001b[39;00m\n\u001b[0;32m---> <a href='vscode-notebook-cell:/Users/victor/My%20Drive%20%28victorr%40mit.edu%29/Documents%20importants/Academic/MIT/Fall/15_093_Optimization/Project/OptimizationProject_DARP/src/bing_maps_api.ipynb#W0sZmlsZQ%3D%3D?line=15'>16</a>\u001b[0m \u001b[39mfrom\u001b[39;00m \u001b[39msklearn\u001b[39;00m \u001b[39mimport\u001b[39;00m preprocessing\n\u001b[1;32m     <a href='vscode-notebook-cell:/Users/victor/My%20Drive%20%28victorr%40mit.edu%29/Documents%20importants/Academic/MIT/Fall/15_093_Optimization/Project/OptimizationProject_DARP/src/bing_maps_api.ipynb#W0sZmlsZQ%3D%3D?line=16'>17</a>\u001b[0m \u001b[39mfrom\u001b[39;00m \u001b[39mtqdm\u001b[39;00m \u001b[39mimport\u001b[39;00m tqdm\n\u001b[1;32m     <a href='vscode-notebook-cell:/Users/victor/My%20Drive%20%28victorr%40mit.edu%29/Documents%20importants/Academic/MIT/Fall/15_093_Optimization/Project/OptimizationProject_DARP/src/bing_maps_api.ipynb#W0sZmlsZQ%3D%3D?line=17'>18</a>\u001b[0m \u001b[39mimport\u001b[39;00m \u001b[39mseaborn\u001b[39;00m \u001b[39mas\u001b[39;00m \u001b[39msns\u001b[39;00m \n",
      "File \u001b[0;32m/opt/homebrew/Caskroom/miniconda/base/envs/optim_env/lib/python3.10/site-packages/sklearn/__init__.py:82\u001b[0m, in \u001b[0;36m<module>\u001b[0;34m\u001b[0m\n\u001b[1;32m     80\u001b[0m \u001b[39mfrom\u001b[39;00m \u001b[39m.\u001b[39;00m \u001b[39mimport\u001b[39;00m _distributor_init  \u001b[39m# noqa: F401\u001b[39;00m\n\u001b[1;32m     81\u001b[0m \u001b[39mfrom\u001b[39;00m \u001b[39m.\u001b[39;00m \u001b[39mimport\u001b[39;00m __check_build  \u001b[39m# noqa: F401\u001b[39;00m\n\u001b[0;32m---> 82\u001b[0m \u001b[39mfrom\u001b[39;00m \u001b[39m.\u001b[39;00m\u001b[39mbase\u001b[39;00m \u001b[39mimport\u001b[39;00m clone\n\u001b[1;32m     83\u001b[0m \u001b[39mfrom\u001b[39;00m \u001b[39m.\u001b[39;00m\u001b[39mutils\u001b[39;00m\u001b[39m.\u001b[39;00m\u001b[39m_show_versions\u001b[39;00m \u001b[39mimport\u001b[39;00m show_versions\n\u001b[1;32m     85\u001b[0m __all__ \u001b[39m=\u001b[39m [\n\u001b[1;32m     86\u001b[0m     \u001b[39m\"\u001b[39m\u001b[39mcalibration\u001b[39m\u001b[39m\"\u001b[39m,\n\u001b[1;32m     87\u001b[0m     \u001b[39m\"\u001b[39m\u001b[39mcluster\u001b[39m\u001b[39m\"\u001b[39m,\n\u001b[0;32m   (...)\u001b[0m\n\u001b[1;32m    128\u001b[0m     \u001b[39m\"\u001b[39m\u001b[39mshow_versions\u001b[39m\u001b[39m\"\u001b[39m,\n\u001b[1;32m    129\u001b[0m ]\n",
      "File \u001b[0;32m/opt/homebrew/Caskroom/miniconda/base/envs/optim_env/lib/python3.10/site-packages/sklearn/base.py:17\u001b[0m, in \u001b[0;36m<module>\u001b[0;34m\u001b[0m\n\u001b[1;32m     15\u001b[0m \u001b[39mfrom\u001b[39;00m \u001b[39m.\u001b[39;00m \u001b[39mimport\u001b[39;00m __version__\n\u001b[1;32m     16\u001b[0m \u001b[39mfrom\u001b[39;00m \u001b[39m.\u001b[39;00m\u001b[39m_config\u001b[39;00m \u001b[39mimport\u001b[39;00m get_config\n\u001b[0;32m---> 17\u001b[0m \u001b[39mfrom\u001b[39;00m \u001b[39m.\u001b[39;00m\u001b[39mutils\u001b[39;00m \u001b[39mimport\u001b[39;00m _IS_32BIT\n\u001b[1;32m     18\u001b[0m \u001b[39mfrom\u001b[39;00m \u001b[39m.\u001b[39;00m\u001b[39mutils\u001b[39;00m\u001b[39m.\u001b[39;00m\u001b[39m_tags\u001b[39;00m \u001b[39mimport\u001b[39;00m (\n\u001b[1;32m     19\u001b[0m     _DEFAULT_TAGS,\n\u001b[1;32m     20\u001b[0m )\n\u001b[1;32m     21\u001b[0m \u001b[39mfrom\u001b[39;00m \u001b[39m.\u001b[39;00m\u001b[39mutils\u001b[39;00m\u001b[39m.\u001b[39;00m\u001b[39mvalidation\u001b[39;00m \u001b[39mimport\u001b[39;00m check_X_y\n",
      "File \u001b[0;32m/opt/homebrew/Caskroom/miniconda/base/envs/optim_env/lib/python3.10/site-packages/sklearn/utils/__init__.py:22\u001b[0m, in \u001b[0;36m<module>\u001b[0;34m\u001b[0m\n\u001b[1;32m     20\u001b[0m \u001b[39mimport\u001b[39;00m \u001b[39mwarnings\u001b[39;00m\n\u001b[1;32m     21\u001b[0m \u001b[39mimport\u001b[39;00m \u001b[39mnumpy\u001b[39;00m \u001b[39mas\u001b[39;00m \u001b[39mnp\u001b[39;00m\n\u001b[0;32m---> 22\u001b[0m \u001b[39mfrom\u001b[39;00m \u001b[39mscipy\u001b[39;00m\u001b[39m.\u001b[39;00m\u001b[39msparse\u001b[39;00m \u001b[39mimport\u001b[39;00m issparse\n\u001b[1;32m     24\u001b[0m \u001b[39mfrom\u001b[39;00m \u001b[39m.\u001b[39;00m\u001b[39mmurmurhash\u001b[39;00m \u001b[39mimport\u001b[39;00m murmurhash3_32\n\u001b[1;32m     25\u001b[0m \u001b[39mfrom\u001b[39;00m \u001b[39m.\u001b[39;00m\u001b[39mclass_weight\u001b[39;00m \u001b[39mimport\u001b[39;00m compute_class_weight, compute_sample_weight\n",
      "File \u001b[0;32m/opt/homebrew/Caskroom/miniconda/base/envs/optim_env/lib/python3.10/site-packages/scipy/sparse/__init__.py:283\u001b[0m, in \u001b[0;36m<module>\u001b[0;34m\u001b[0m\n\u001b[1;32m    278\u001b[0m \u001b[39mfrom\u001b[39;00m \u001b[39m.\u001b[39;00m\u001b[39m_arrays\u001b[39;00m \u001b[39mimport\u001b[39;00m (\n\u001b[1;32m    279\u001b[0m     csr_array, csc_array, lil_array, dok_array, coo_array, dia_array, bsr_array\n\u001b[1;32m    280\u001b[0m )\n\u001b[1;32m    282\u001b[0m \u001b[39m# For backward compatibility with v0.19.\u001b[39;00m\n\u001b[0;32m--> 283\u001b[0m \u001b[39mfrom\u001b[39;00m \u001b[39m.\u001b[39;00m \u001b[39mimport\u001b[39;00m csgraph\n\u001b[1;32m    285\u001b[0m \u001b[39m# Deprecated namespaces, to be removed in v2.0.0\u001b[39;00m\n\u001b[1;32m    286\u001b[0m \u001b[39mfrom\u001b[39;00m \u001b[39m.\u001b[39;00m \u001b[39mimport\u001b[39;00m (\n\u001b[1;32m    287\u001b[0m     base, bsr, compressed, construct, coo, csc, csr, data, dia, dok, extract,\n\u001b[1;32m    288\u001b[0m     lil, sparsetools, sputils\n\u001b[1;32m    289\u001b[0m )\n",
      "File \u001b[0;32m/opt/homebrew/Caskroom/miniconda/base/envs/optim_env/lib/python3.10/site-packages/scipy/sparse/csgraph/__init__.py:182\u001b[0m, in \u001b[0;36m<module>\u001b[0;34m\u001b[0m\n\u001b[1;32m    154\u001b[0m __docformat__ \u001b[39m=\u001b[39m \u001b[39m\"\u001b[39m\u001b[39mrestructuredtext en\u001b[39m\u001b[39m\"\u001b[39m\n\u001b[1;32m    156\u001b[0m __all__ \u001b[39m=\u001b[39m [\u001b[39m'\u001b[39m\u001b[39mconnected_components\u001b[39m\u001b[39m'\u001b[39m,\n\u001b[1;32m    157\u001b[0m            \u001b[39m'\u001b[39m\u001b[39mlaplacian\u001b[39m\u001b[39m'\u001b[39m,\n\u001b[1;32m    158\u001b[0m            \u001b[39m'\u001b[39m\u001b[39mshortest_path\u001b[39m\u001b[39m'\u001b[39m,\n\u001b[0;32m   (...)\u001b[0m\n\u001b[1;32m    179\u001b[0m            \u001b[39m'\u001b[39m\u001b[39mcsgraph_to_masked\u001b[39m\u001b[39m'\u001b[39m,\n\u001b[1;32m    180\u001b[0m            \u001b[39m'\u001b[39m\u001b[39mNegativeCycleError\u001b[39m\u001b[39m'\u001b[39m]\n\u001b[0;32m--> 182\u001b[0m \u001b[39mfrom\u001b[39;00m \u001b[39m.\u001b[39;00m\u001b[39m_laplacian\u001b[39;00m \u001b[39mimport\u001b[39;00m laplacian\n\u001b[1;32m    183\u001b[0m \u001b[39mfrom\u001b[39;00m \u001b[39m.\u001b[39;00m\u001b[39m_shortest_path\u001b[39;00m \u001b[39mimport\u001b[39;00m (\n\u001b[1;32m    184\u001b[0m     shortest_path, floyd_warshall, dijkstra, bellman_ford, johnson,\n\u001b[1;32m    185\u001b[0m     NegativeCycleError\n\u001b[1;32m    186\u001b[0m )\n\u001b[1;32m    187\u001b[0m \u001b[39mfrom\u001b[39;00m \u001b[39m.\u001b[39;00m\u001b[39m_traversal\u001b[39;00m \u001b[39mimport\u001b[39;00m (\n\u001b[1;32m    188\u001b[0m     breadth_first_order, depth_first_order, breadth_first_tree,\n\u001b[1;32m    189\u001b[0m     depth_first_tree, connected_components\n\u001b[1;32m    190\u001b[0m )\n",
      "File \u001b[0;32m/opt/homebrew/Caskroom/miniconda/base/envs/optim_env/lib/python3.10/site-packages/scipy/sparse/csgraph/_laplacian.py:7\u001b[0m, in \u001b[0;36m<module>\u001b[0;34m\u001b[0m\n\u001b[1;32m      5\u001b[0m \u001b[39mimport\u001b[39;00m \u001b[39mnumpy\u001b[39;00m \u001b[39mas\u001b[39;00m \u001b[39mnp\u001b[39;00m\n\u001b[1;32m      6\u001b[0m \u001b[39mfrom\u001b[39;00m \u001b[39mscipy\u001b[39;00m\u001b[39m.\u001b[39;00m\u001b[39msparse\u001b[39;00m \u001b[39mimport\u001b[39;00m isspmatrix\n\u001b[0;32m----> 7\u001b[0m \u001b[39mfrom\u001b[39;00m \u001b[39mscipy\u001b[39;00m\u001b[39m.\u001b[39;00m\u001b[39msparse\u001b[39;00m\u001b[39m.\u001b[39;00m\u001b[39mlinalg\u001b[39;00m \u001b[39mimport\u001b[39;00m LinearOperator\n\u001b[1;32m     10\u001b[0m \u001b[39m###############################################################################\u001b[39;00m\n\u001b[1;32m     11\u001b[0m \u001b[39m# Graph laplacian\u001b[39;00m\n\u001b[1;32m     12\u001b[0m \u001b[39mdef\u001b[39;00m \u001b[39mlaplacian\u001b[39m(\n\u001b[1;32m     13\u001b[0m     csgraph,\n\u001b[1;32m     14\u001b[0m     normed\u001b[39m=\u001b[39m\u001b[39mFalse\u001b[39;00m,\n\u001b[0;32m   (...)\u001b[0m\n\u001b[1;32m     21\u001b[0m     symmetrized\u001b[39m=\u001b[39m\u001b[39mFalse\u001b[39;00m,\n\u001b[1;32m     22\u001b[0m ):\n",
      "File \u001b[0;32m/opt/homebrew/Caskroom/miniconda/base/envs/optim_env/lib/python3.10/site-packages/scipy/sparse/linalg/__init__.py:120\u001b[0m, in \u001b[0;36m<module>\u001b[0;34m\u001b[0m\n\u001b[1;32m      1\u001b[0m \u001b[39m\"\"\"\u001b[39;00m\n\u001b[1;32m      2\u001b[0m \u001b[39mSparse linear algebra (:mod:`scipy.sparse.linalg`)\u001b[39;00m\n\u001b[1;32m      3\u001b[0m \u001b[39m==================================================\u001b[39;00m\n\u001b[0;32m   (...)\u001b[0m\n\u001b[1;32m    117\u001b[0m \n\u001b[1;32m    118\u001b[0m \u001b[39m\"\"\"\u001b[39;00m\n\u001b[0;32m--> 120\u001b[0m \u001b[39mfrom\u001b[39;00m \u001b[39m.\u001b[39;00m\u001b[39m_isolve\u001b[39;00m \u001b[39mimport\u001b[39;00m \u001b[39m*\u001b[39m\n\u001b[1;32m    121\u001b[0m \u001b[39mfrom\u001b[39;00m \u001b[39m.\u001b[39;00m\u001b[39m_dsolve\u001b[39;00m \u001b[39mimport\u001b[39;00m \u001b[39m*\u001b[39m\n\u001b[1;32m    122\u001b[0m \u001b[39mfrom\u001b[39;00m \u001b[39m.\u001b[39;00m\u001b[39m_interface\u001b[39;00m \u001b[39mimport\u001b[39;00m \u001b[39m*\u001b[39m\n",
      "File \u001b[0;32m/opt/homebrew/Caskroom/miniconda/base/envs/optim_env/lib/python3.10/site-packages/scipy/sparse/linalg/_isolve/__init__.py:4\u001b[0m, in \u001b[0;36m<module>\u001b[0;34m\u001b[0m\n\u001b[1;32m      1\u001b[0m \u001b[39m\"\u001b[39m\u001b[39mIterative Solvers for Sparse Linear Systems\u001b[39m\u001b[39m\"\u001b[39m\n\u001b[1;32m      3\u001b[0m \u001b[39m#from info import __doc__\u001b[39;00m\n\u001b[0;32m----> 4\u001b[0m \u001b[39mfrom\u001b[39;00m \u001b[39m.\u001b[39;00m\u001b[39miterative\u001b[39;00m \u001b[39mimport\u001b[39;00m \u001b[39m*\u001b[39m\n\u001b[1;32m      5\u001b[0m \u001b[39mfrom\u001b[39;00m \u001b[39m.\u001b[39;00m\u001b[39mminres\u001b[39;00m \u001b[39mimport\u001b[39;00m minres\n\u001b[1;32m      6\u001b[0m \u001b[39mfrom\u001b[39;00m \u001b[39m.\u001b[39;00m\u001b[39mlgmres\u001b[39;00m \u001b[39mimport\u001b[39;00m lgmres\n",
      "File \u001b[0;32m/opt/homebrew/Caskroom/miniconda/base/envs/optim_env/lib/python3.10/site-packages/scipy/sparse/linalg/_isolve/iterative.py:9\u001b[0m, in \u001b[0;36m<module>\u001b[0;34m\u001b[0m\n\u001b[1;32m      6\u001b[0m \u001b[39mfrom\u001b[39;00m \u001b[39mtextwrap\u001b[39;00m \u001b[39mimport\u001b[39;00m dedent\n\u001b[1;32m      7\u001b[0m \u001b[39mimport\u001b[39;00m \u001b[39mnumpy\u001b[39;00m \u001b[39mas\u001b[39;00m \u001b[39mnp\u001b[39;00m\n\u001b[0;32m----> 9\u001b[0m \u001b[39mfrom\u001b[39;00m \u001b[39m.\u001b[39;00m \u001b[39mimport\u001b[39;00m _iterative\n\u001b[1;32m     11\u001b[0m \u001b[39mfrom\u001b[39;00m \u001b[39mscipy\u001b[39;00m\u001b[39m.\u001b[39;00m\u001b[39msparse\u001b[39;00m\u001b[39m.\u001b[39;00m\u001b[39mlinalg\u001b[39;00m\u001b[39m.\u001b[39;00m\u001b[39m_interface\u001b[39;00m \u001b[39mimport\u001b[39;00m LinearOperator\n\u001b[1;32m     12\u001b[0m \u001b[39mfrom\u001b[39;00m \u001b[39m.\u001b[39;00m\u001b[39mutils\u001b[39;00m \u001b[39mimport\u001b[39;00m make_system\n",
      "\u001b[0;31mImportError\u001b[0m: dlopen(/opt/homebrew/Caskroom/miniconda/base/envs/optim_env/lib/python3.10/site-packages/scipy/sparse/linalg/_isolve/_iterative.cpython-310-darwin.so, 0x0002): Library not loaded: @rpath/liblapack.3.dylib\n  Referenced from: <78036CAA-82A0-3FC2-9DF1-A2F5970A489B> /opt/homebrew/Caskroom/miniconda/base/envs/optim_env/lib/python3.10/site-packages/scipy/sparse/linalg/_isolve/_iterative.cpython-310-darwin.so\n  Reason: tried: '/opt/homebrew/Caskroom/miniconda/base/envs/optim_env/lib/python3.10/site-packages/scipy/sparse/linalg/_isolve/liblapack.3.dylib' (no such file), '/opt/homebrew/Caskroom/miniconda/base/envs/optim_env/lib/python3.10/site-packages/scipy/sparse/linalg/_isolve/../../../../../../liblapack.3.dylib' (no such file), '/opt/homebrew/Caskroom/miniconda/base/envs/optim_env/lib/python3.10/site-packages/scipy/sparse/linalg/_isolve/liblapack.3.dylib' (no such file), '/opt/homebrew/Caskroom/miniconda/base/envs/optim_env/lib/python3.10/site-packages/scipy/sparse/linalg/_isolve/../../../../../../liblapack.3.dylib' (no such file), '/opt/homebrew/Caskroom/miniconda/base/envs/optim_env/bin/../lib/liblapack.3.dylib' (no such file), '/opt/homebrew/Caskroom/miniconda/base/envs/optim_env/bin/../lib/liblapack.3.dylib' (no such file), '/System/Volumes/Preboot/Cryptexes/OS@rpath/liblapack.3.dylib' (no such file), '/opt/homebrew/Caskroom/miniconda/base/envs/optim_env/lib/python3.10/site-packages/scipy/sparse/linalg/_isolve/liblapack.3.dylib' (no such file), '/opt/homebrew/Caskroom/miniconda/base/envs/optim_env/lib/python3.10/site-packages/scipy/sparse/linalg/_isolve/../../../../../../liblapack.3.dylib' (no such file), '/opt/homebrew/Caskroom/miniconda/base/envs/optim_env/lib/python3.10/site-packages/scipy/sparse/linalg/_isolve/liblapack.3.dylib' (no such file), '/opt/homebrew/Caskroom/miniconda/base/envs/optim_env/lib/python3.10/site-packages/scipy/sparse/linalg/_isolve/../../../../../../liblapack.3.dylib' (no such file), '/opt/homebrew/Caskroom/miniconda/base/envs/optim_env/bin/../lib/liblapack.3.dylib' (no such file), '/opt/homebrew/Caskroom/miniconda/base/envs/optim_env/bin/../lib/liblapack.3.dylib' (no such file), '/usr/local/lib/liblapack.3.dylib' (no such file), '/usr/lib/liblapack.3.dylib' (no such file, not in dyld cache)"
     ]
    }
   ],
   "source": [
    "import os\n",
    "import sys\n",
    "\n",
    "import branca.colormap as cm\n",
    "import numpy as np\n",
    "import pandas as pd\n",
    "from shapely.geometry import LineString, Point, Polygon\n",
    "\n",
    "sys.path.insert(0, \"../src\")\n",
    "import json\n",
    "import time as ti\n",
    "import math\n",
    "\n",
    "import geopandas as gpd\n",
    "import seaborn as sns\n",
    "from sklearn import preprocessing\n",
    "from tqdm import tqdm\n",
    "import seaborn as sns \n",
    "from IPython.display import display, Math, Latex\n",
    "import requests\n",
    "\n",
    "from BrusselsMap import BrusselsMap\n",
    "from GeoJsonHandler import GeoJsonHandler\n",
    "import urllib.request\n",
    "\n",
    "pd.set_option(\"display.max_rows\", 500)\n",
    "pd.set_option(\"display.max_columns\", 500)"
   ]
  },
  {
   "cell_type": "markdown",
   "metadata": {},
   "source": [
    "# Now let's try to compute the distance OD Matrix between these points\n",
    "\n",
    "First, let's define the function need to perform the HTTP GET request. All the assumptions regarding this matrix are under this first link below.\n",
    "\n",
    "- Resources: https://docs.microsoft.com/en-us/bingmaps/rest-services/examples/distance-matrix-asynchronous-example\n",
    "\n",
    "- Example: https://docs.microsoft.com/en-us/bingmaps/rest-services/examples/distance-matrix-example"
   ]
  },
  {
   "cell_type": "markdown",
   "metadata": {},
   "source": [
    "The HTTP GET request works as follow:\n",
    "\n",
    "https://dev.virtualearth.net/REST/v1/Routes/DistanceMatrix?origins={lat0,long0;lat1,lon1;latM,lonM}&destinations={lat0,lon0;lat1,lon1;latN,longN}&travelMode={travelMode}&startTime={startTime}&timeUnit={timeUnit}&key={BingMapsKey}\n",
    "\n",
    "- origins: list of lat, long coordinates of origins\n",
    "- destionations: list of lat, long coordinates of destinations\n",
    "- travelMode: `Driving`\n",
    "- startTime: `2021-11-15-07:00`\n",
    "- timeUnit\n",
    "- BingMapsKey"
   ]
  },
  {
   "cell_type": "code",
   "execution_count": 3,
   "metadata": {},
   "outputs": [],
   "source": [
    "def get_data(orig, dest, size_x, size_y):\n",
    "    # Your Bing Maps Key\n",
    "    bingMapsKey = \"Ah52Budr_8V_sE1HKdPH-INIK_RDqas1zgkSJwdtB3GW3Dm04DsNm3lzkoXmpPc9\"\n",
    "\n",
    "    # input information\n",
    "    travelMode = \"Driving\"\n",
    "    startTime = \"2021-11-15-07:00\"\n",
    "    distanceUnit = \"km\"\n",
    "    timeUnit = \"minute\"\n",
    "\n",
    "    routeUrl = (\n",
    "        \"https://dev.virtualearth.net/REST/v1/Routes/DistanceMatrix?\"\n",
    "        + f\"origins={orig}\"\n",
    "        + f\"&destinations={dest}\"\n",
    "        + f\"&travelMode={travelMode}\"\n",
    "        + f\"&startTime={startTime}\"\n",
    "        + f\"&timeUnit={timeUnit}\"\n",
    "        + f\"&key={bingMapsKey}\"\n",
    "    )\n",
    "\n",
    "    # request = urllib.request.Request(routeUrl)\n",
    "    # response = urllib.request.urlopen(request, proxies={\"http\":\"http://myproxy:3129\"})\n",
    "    # data = json.load(response)\n",
    "\n",
    "    response = requests.get(routeUrl)\n",
    "    data = response.json()\n",
    "\n",
    "    distance, time = build_od_matrix(data, (size_x, size_y))\n",
    "    return distance, time"
   ]
  },
  {
   "cell_type": "code",
   "execution_count": 4,
   "metadata": {},
   "outputs": [],
   "source": [
    "def build_od_matrix(data, size):\n",
    "\n",
    "    resources = data[\"resourceSets\"][0][\"resources\"][0][\"results\"]\n",
    "\n",
    "    distance = np.zeros((size[0], size[1]))\n",
    "    time = np.zeros((size[0], size[1]))\n",
    "\n",
    "    for i in range(size[0]):\n",
    "        for j in range(size[1]):\n",
    "            distance[i, j] = resources[i * size[1] + j][\"travelDistance\"]\n",
    "            time[i, j] = resources[i * size[1] + j][\"travelDuration\"]\n",
    "\n",
    "    return distance, time\n",
    "    "
   ]
  },
  {
   "cell_type": "code",
   "execution_count": 10,
   "metadata": {},
   "outputs": [
    {
     "data": {
      "text/html": [
       "<div>\n",
       "<style scoped>\n",
       "    .dataframe tbody tr th:only-of-type {\n",
       "        vertical-align: middle;\n",
       "    }\n",
       "\n",
       "    .dataframe tbody tr th {\n",
       "        vertical-align: top;\n",
       "    }\n",
       "\n",
       "    .dataframe thead th {\n",
       "        text-align: right;\n",
       "    }\n",
       "</style>\n",
       "<table border=\"1\" class=\"dataframe\">\n",
       "  <thead>\n",
       "    <tr style=\"text-align: right;\">\n",
       "      <th></th>\n",
       "      <th>Residence</th>\n",
       "      <th>Address</th>\n",
       "      <th>Lat</th>\n",
       "      <th>Long</th>\n",
       "      <th>Type</th>\n",
       "      <th>Capacity</th>\n",
       "    </tr>\n",
       "  </thead>\n",
       "  <tbody>\n",
       "    <tr>\n",
       "      <th>0</th>\n",
       "      <td>Baker House</td>\n",
       "      <td>362 Memorial Drive Building W7 Cambridge, MA 0213</td>\n",
       "      <td>42.356768</td>\n",
       "      <td>-71.095697</td>\n",
       "      <td>Undergrad</td>\n",
       "      <td>325</td>\n",
       "    </tr>\n",
       "    <tr>\n",
       "      <th>1</th>\n",
       "      <td>Burton Conner</td>\n",
       "      <td>410 Memorial Drive Building W51 Cambridge, MA ...</td>\n",
       "      <td>42.356145</td>\n",
       "      <td>-71.097894</td>\n",
       "      <td>Undergrad</td>\n",
       "      <td>388</td>\n",
       "    </tr>\n",
       "    <tr>\n",
       "      <th>2</th>\n",
       "      <td>East Campus</td>\n",
       "      <td>42.3600082317933, -71.08839675920484</td>\n",
       "      <td>42.360036</td>\n",
       "      <td>-71.088397</td>\n",
       "      <td>Undergrad</td>\n",
       "      <td>383</td>\n",
       "    </tr>\n",
       "    <tr>\n",
       "      <th>3</th>\n",
       "      <td>MacGregor House</td>\n",
       "      <td>450 Memorial Drive Building W61 Cambridge, MA ...</td>\n",
       "      <td>42.355645</td>\n",
       "      <td>-71.099563</td>\n",
       "      <td>Undergrad</td>\n",
       "      <td>313</td>\n",
       "    </tr>\n",
       "    <tr>\n",
       "      <th>4</th>\n",
       "      <td>Maseeh Hall</td>\n",
       "      <td>305 Memorial Drive Building W1 Cambridge, MA 0...</td>\n",
       "      <td>42.357843</td>\n",
       "      <td>-71.093448</td>\n",
       "      <td>Undergrad</td>\n",
       "      <td>500</td>\n",
       "    </tr>\n",
       "  </tbody>\n",
       "</table>\n",
       "</div>"
      ],
      "text/plain": [
       "         Residence                                            Address  \\\n",
       "0      Baker House  362 Memorial Drive Building W7 Cambridge, MA 0213   \n",
       "1    Burton Conner  410 Memorial Drive Building W51 Cambridge, MA ...   \n",
       "2      East Campus               42.3600082317933, -71.08839675920484   \n",
       "3  MacGregor House  450 Memorial Drive Building W61 Cambridge, MA ...   \n",
       "4      Maseeh Hall  305 Memorial Drive Building W1 Cambridge, MA 0...   \n",
       "\n",
       "         Lat       Long       Type  Capacity  \n",
       "0  42.356768 -71.095697  Undergrad       325  \n",
       "1  42.356145 -71.097894  Undergrad       388  \n",
       "2  42.360036 -71.088397  Undergrad       383  \n",
       "3  42.355645 -71.099563  Undergrad       313  \n",
       "4  42.357843 -71.093448  Undergrad       500  "
      ]
     },
     "execution_count": 10,
     "metadata": {},
     "output_type": "execute_result"
    }
   ],
   "source": [
    "# Read the dataframe\n",
    "df = pd.read_csv(\"../HousingData.csv\")\n",
    "df.head()"
   ]
  },
  {
   "cell_type": "code",
   "execution_count": 8,
   "metadata": {},
   "outputs": [],
   "source": [
    "# Matrix Initialization\n",
    "distance_matrix = np.zeros((20, 20))\n",
    "time_matrix = np.zeros((20, 20))"
   ]
  },
  {
   "cell_type": "code",
   "execution_count": 11,
   "metadata": {},
   "outputs": [],
   "source": [
    "# Compute the list of origin-destinations points\n",
    "long = list(df[\"Long\"])\n",
    "lat = list(df[\"Lat\"])\n",
    "\n",
    "points = []\n",
    "for i, j in zip(lat, long):\n",
    "    points.append(str(i) + \",\" + str(j))"
   ]
  },
  {
   "cell_type": "code",
   "execution_count": null,
   "metadata": {},
   "outputs": [],
   "source": [
    "N = 25\n",
    "Nn = math.ceil(145/N)\n",
    "\n",
    "querry=False\n",
    "\n",
    "if querry:\n",
    "\n",
    "    ## Querying BingMaps Services\n",
    "    for i in tqdm(range(Nn)):  # division in 6 batches\n",
    "        min_, max_ = int(i * N), int(min(145, (i + 1) * N))\n",
    "        origins = \";\".join(points[min_:max_])\n",
    "\n",
    "        for j in range(Nn):\n",
    "            # ti.sleep(5)\n",
    "\n",
    "            min_j, max_j = int(j * N), int((j + 1) * N)\n",
    "            destinations = \";\".join(points[min_j:max_j])\n",
    "\n",
    "            distance, time = get_data(\n",
    "                origins, destinations, size_x=int(max_ - min_), size_y=int(max_j - min_j)\n",
    "            )\n",
    "\n",
    "            # print(min_, max_, min_j, max_j)\n",
    "\n",
    "            distance_matrix[min_:max_, min_j:max_j] = distance\n",
    "            time_matrix[min_:max_, min_j:max_j] = time\n",
    "\n",
    "    np.savetxt(\"../todo.txt\", distance_matrix, fmt=\"%1.3f\")"
   ]
  },
  {
   "cell_type": "code",
   "execution_count": null,
   "metadata": {},
   "outputs": [],
   "source": [
    "if querry:\n",
    "    dists = pd.DataFrame(distance_matrix, columns=sectors.names)\n",
    "    dists[\"origin\"] = sectors.names\n",
    "    dists.set_index(\"origin\", inplace=True)\n",
    "\n",
    "    times = pd.DataFrame(time_matrix, columns=sectors.names)\n",
    "    times[\"origin\"] = sectors.names\n",
    "    times.set_index(\"origin\", inplace=True)\n",
    "    \n",
    "    #Save data\n",
    "    dists.to_csv(\"../data/todo.csv\")\n",
    "    times.to_csv(\"../data/final_data/todo.csv\")"
   ]
  },
  {
   "cell_type": "code",
   "execution_count": null,
   "metadata": {},
   "outputs": [],
   "source": []
  }
 ],
 "metadata": {
  "kernelspec": {
   "display_name": "Python 3.10.6 ('optim_env')",
   "language": "python",
   "name": "python3"
  },
  "language_info": {
   "codemirror_mode": {
    "name": "ipython",
    "version": 3
   },
   "file_extension": ".py",
   "mimetype": "text/x-python",
   "name": "python",
   "nbconvert_exporter": "python",
   "pygments_lexer": "ipython3",
   "version": "3.10.6"
  },
  "orig_nbformat": 4,
  "vscode": {
   "interpreter": {
    "hash": "47fe5effe95bc4486b2b552394ae2aa95aa0338880c0f05d417b502ddec62622"
   }
  }
 },
 "nbformat": 4,
 "nbformat_minor": 2
}
