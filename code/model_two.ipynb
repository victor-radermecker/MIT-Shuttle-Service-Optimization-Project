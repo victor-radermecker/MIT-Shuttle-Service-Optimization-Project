{
 "cells": [
  {
   "cell_type": "code",
   "execution_count": 1,
   "metadata": {},
   "outputs": [],
   "source": [
    "using DataFrames, CSV\n",
    "using LinearAlgebra, Random, Printf, StatsBase, CategoricalArrays\n",
    "using Plots, StatsPlots, GRUtils\n",
    "using Distributions\n",
    "using Gurobi, JuMP, Combinatorics"
   ]
  },
  {
   "cell_type": "code",
   "execution_count": 2,
   "metadata": {},
   "outputs": [],
   "source": [
    "# Constants\n",
    "N = 3 ; # number of passengers\n",
    "K = 3 ;  # number of shuttles"
   ]
  },
  {
   "cell_type": "code",
   "execution_count": 3,
   "metadata": {},
   "outputs": [
    {
     "data": {
      "text/plain": [
       "Base.Iterators.Flatten{Vector{Base.Generator{Combinatorics.Combinations, Combinatorics.var\"#10#13\"{Combinatorics.var\"#reorder#11\"{UnitRange{Int64}}}}}}(Base.Generator{Combinatorics.Combinations, Combinatorics.var\"#10#13\"{Combinatorics.var\"#reorder#11\"{UnitRange{Int64}}}}[Base.Generator{Combinatorics.Combinations, Combinatorics.var\"#10#13\"{Combinatorics.var\"#reorder#11\"{UnitRange{Int64}}}}(Combinatorics.var\"#10#13\"{Combinatorics.var\"#reorder#11\"{UnitRange{Int64}}}(Combinatorics.var\"#reorder#11\"{UnitRange{Int64}}(1:5)), Combinatorics.Combinations(5, 0)), Base.Generator{Combinatorics.Combinations, Combinatorics.var\"#10#13\"{Combinatorics.var\"#reorder#11\"{UnitRange{Int64}}}}(Combinatorics.var\"#10#13\"{Combinatorics.var\"#reorder#11\"{UnitRange{Int64}}}(Combinatorics.var\"#reorder#11\"{UnitRange{Int64}}(1:5)), Combinatorics.Combinations(5, 1)), Base.Generator{Combinatorics.Combinations, Combinatorics.var\"#10#13\"{Combinatorics.var\"#reorder#11\"{UnitRange{Int64}}}}(Combinatorics.var\"#10#13\"{Combinatorics.var\"#reorder#11\"{UnitRange{Int64}}}(Combinatorics.var\"#reorder#11\"{UnitRange{Int64}}(1:5)), Combinatorics.Combinations(5, 2)), Base.Generator{Combinatorics.Combinations, Combinatorics.var\"#10#13\"{Combinatorics.var\"#reorder#11\"{UnitRange{Int64}}}}(Combinatorics.var\"#10#13\"{Combinatorics.var\"#reorder#11\"{UnitRange{Int64}}}(Combinatorics.var\"#reorder#11\"{UnitRange{Int64}}(1:5)), Combinatorics.Combinations(5, 3)), Base.Generator{Combinatorics.Combinations, Combinatorics.var\"#10#13\"{Combinatorics.var\"#reorder#11\"{UnitRange{Int64}}}}(Combinatorics.var\"#10#13\"{Combinatorics.var\"#reorder#11\"{UnitRange{Int64}}}(Combinatorics.var\"#reorder#11\"{UnitRange{Int64}}(1:5)), Combinatorics.Combinations(5, 4)), Base.Generator{Combinatorics.Combinations, Combinatorics.var\"#10#13\"{Combinatorics.var\"#reorder#11\"{UnitRange{Int64}}}}(Combinatorics.var\"#10#13\"{Combinatorics.var\"#reorder#11\"{UnitRange{Int64}}}(Combinatorics.var\"#reorder#11\"{UnitRange{Int64}}(1:5)), Combinatorics.Combinations(5, 5))])"
      ]
     },
     "execution_count": 3,
     "metadata": {},
     "output_type": "execute_result"
    }
   ],
   "source": [
    "# powerset(1:3, min=0, max=length(1:3))\n",
    "a = 1:5\n",
    "Combinatorics.powerset(a, 0, length(a)) \n"
   ]
  },
  {
   "cell_type": "code",
   "execution_count": 4,
   "metadata": {},
   "outputs": [
    {
     "data": {
      "text/plain": [
       "8×8 Matrix{Float64}:\n",
       " 1.2  4.0  1.2  4.5  1.2  0.9  1.2   0.9\n",
       " 3.0  3.0  3.2  1.4  1.6  0.6  0.7   0.5\n",
       " 1.4  5.0  4.6  1.9  3.8  3.0  0.4   0.2\n",
       " 1.9  2.0  1.9  2.5  2.5  5.0  1.8   1.5\n",
       " 2.5  1.0  2.4  1.2  6.2  2.0  1.3   1.7\n",
       " 1.2  5.0  1.9  4.0  4.5  1.2  0.9   1.2\n",
       " 4.0  2.0  2.5  2.0  2.1  2.4  6.5  18.3\n",
       " 2.0  1.0  1.2  3.0  3.0  5.0  4.6   1.9"
      ]
     },
     "execution_count": 4,
     "metadata": {},
     "output_type": "execute_result"
    }
   ],
   "source": [
    "# Use this cost later to load costs from BingsMap. For now, we will simply use the euclidian distance as shown below.\n",
    "c = Matrix(DataFrame(CSV.File(\"../data/SimulatedCosts.csv\")))\n",
    "c = c[:, 2:size(c)[2]];\n",
    "\n",
    "t = c  #let's consider in this initial model that the travel cost and the time and equivalent. "
   ]
  },
  {
   "cell_type": "code",
   "execution_count": 5,
   "metadata": {},
   "outputs": [
    {
     "data": {
      "text/plain": [
       "8×8 Matrix{Float64}:\n",
       " 0.0       0.291247  0.150659  0.743121  …  0.693661  1.31528   0.0\n",
       " 0.291247  0.0       0.326118  0.620831     0.488037  1.03742   0.291247\n",
       " 0.150659  0.326118  0.0       0.869122     0.789801  1.28146   0.150659\n",
       " 0.743121  0.620831  0.869122  0.0          0.238253  1.26881   0.743121\n",
       " 0.668374  0.379722  0.697821  0.585946     0.353577  0.733003  0.668374\n",
       " 0.693661  0.488037  0.789801  0.238253  …  0.0       1.03335   0.693661\n",
       " 1.31528   1.03742   1.28146   1.26881      1.03335   0.0       1.31528\n",
       " 0.0       0.291247  0.150659  0.743121     0.693661  1.31528   0.0"
      ]
     },
     "execution_count": 5,
     "metadata": {},
     "output_type": "execute_result"
    }
   ],
   "source": [
    "# Data\n",
    "data = Matrix(DataFrame(CSV.File(\"../data/SimulatedDataTest.csv\")));\n",
    "\n",
    "q = data[1:2*N+2, 4];\n",
    "d = data[1:2*N+2, 5] / 10;\n",
    "e = data[1:2*N+2, 7];\n",
    "l = data[1:2*N+2, 8];\n",
    "\n",
    "#compute costs/time as euclidian distance.\n",
    "c = zeros(2 * N + 2, 2 * N + 2)\n",
    "for i = 1:2*N+2\n",
    "    for j = 1:2*N+2\n",
    "        c[i, j] = norm(data[i, 2:3] - data[j, 2:3]) / 10\n",
    "    end\n",
    "end\n",
    "\n",
    "t = c  #let's consider in this initial model that the travel cost and the time and equivalent. "
   ]
  },
  {
   "cell_type": "markdown",
   "metadata": {},
   "source": [
    "# Two indices model\n",
    "\n",
    "`The model is available here:` http://neumann.hec.ca/chairedistributique/common/pdptw.pdf"
   ]
  },
  {
   "cell_type": "code",
   "execution_count": 6,
   "metadata": {},
   "outputs": [
    {
     "name": "stdout",
     "output_type": "stream",
     "text": [
      "Set parameter Username\n",
      "Academic license - for non-commercial use only - expires 2023-08-17\n"
     ]
    }
   ],
   "source": [
    "model = Model(Gurobi.Optimizer)\n",
    "\n",
    "V =  1:2*N+2                     # all vertices\n",
    "P = 2:N+1                        # pick up vertices\n",
    "D = N+2:2*N+1                    # drop off vertices\n",
    "PUD = 2:2*N+1                    # all pick up and drop off vertices together (all vertices except depot)\n",
    "\n",
    "T = fill(1000, K)                # maximum duration of route k\n",
    "L = 1000                         # maximum time of a drive\n",
    "Q = 3                            # capacity of each car - IT HAS TO BE THE SAME FOR ALL SHUTTLES.\n",
    "\n",
    "# Variables\n",
    "@variable(model, u[1:2*N+2] >= 0)                      # u[i,k] time as which the vertex i is served by vehicle k (B in the paper)\n",
    "@variable(model, x[1:2*N+2, 1:2*N+2] >= 0, Bin)        # x[i, j, k] = 1 if we go from node i to node j with vehicle k.  \n",
    "@variable(model, r[1:N] >= 0)                          # r[i,k] travel time of passenger i (Note that passenger i is identified by) the vertex i+1\n",
    "@variable(model, w[1:2*N+2] >= 0, Int)            # w[i,k] load of vehicle k when arriving upon leaving vertex i (Q in the paper)\n",
    "\n",
    "\n",
    "# DEFINE SUBSET S WITH POWERSET\n",
    "S = []\n",
    "\n",
    "\n",
    "#############  Constraints  #############\n",
    "\n",
    "@constraint(model, [j in PUD], sum(x[i, j] for i in V) == 1)\n",
    "@constraint(model, [i in PUD], sum(x[i, j] for j in V) == 1)\n",
    "\n",
    "# Define the precedence constraints\n",
    "for sub in S\n",
    "    @constraint(model, sum(sum(x[i, j] for i in sub) for j in sub) <= length(sub) - 2)\n",
    "end\n",
    "\n",
    "@constraint(model, [i in V, j in V, k = 1:K], u[j] >= (u[i] + d[i] + t[i, j]) * x[i, j])\n",
    "@constraint(model, [i in V, j in V, k = 1:K], w[j] >= (w[i] + q[j]) * x[i, j])\n",
    "@constraint(model, [i in V], e[i] <= u[i])\n",
    "@constraint(model, [i in V], u[i] <= l[i])\n",
    "\n",
    "@constraint(model, [i in V, k = 1:K], max(0, q[i]) <= w[i])\n",
    "@constraint(model, [i in V, k = 1:K], w[i] <= min(Q, Q + q[i]))\n",
    "\n",
    "# objective\n",
    "@objective(model, Min, sum(sum(sum(c[i, j] * x[i, j]) for i in V) for j in V));"
   ]
  },
  {
   "cell_type": "code",
   "execution_count": 7,
   "metadata": {},
   "outputs": [
    {
     "data": {
      "text/plain": [
       "plot_route (generic function with 1 method)"
      ]
     },
     "execution_count": 7,
     "metadata": {},
     "output_type": "execute_result"
    }
   ],
   "source": [
    "function plot_route(df, x_val, w_val, plot_size)\n",
    "    \n",
    "    # df: dataframe containing all the input data:\n",
    "    #     column 1: Passenger ID\n",
    "    #     column 2: PickUp/DropOff Pos_x\n",
    "    #     column 3: PickUp/DropOff Pos_y\n",
    "    #     column 4: load (number of passengers to embark)\n",
    "    #     column 5: service duration (embark time)\n",
    "    #     column 6: preferred pick up time\n",
    "    #     column 7: lower bound of pick up time\n",
    "    #     column 8: upper bound of pick up time\n",
    "\n",
    "    # car_nbr: the vehicle number to plot\n",
    "\n",
    "    # x_val: the values of x\n",
    "    \n",
    "    #constants \n",
    "    N = round(Int,(size(df)[1]-2)/2)\n",
    "\n",
    "    cars_used = findall([sum(x_val[:,:,i]) for i=1:size(x_val)[3]] .> 2)\n",
    "    print(cars_used)\n",
    "    \n",
    "    println(\"Number of cars used: $(sum(cars_used))\")\n",
    "    println(\"The car(s) used are(is): \", cars_used)\n",
    "\n",
    "\n",
    "    # plot the depot\n",
    "    Plots.scatter([df[1, 2]], [df[2*N+2, 3]], \n",
    "        size = (plot_size[1], plot_size[2]),\n",
    "        titlefont=font(20, \"Computer Modern\"), \n",
    "        color=\"black\", \n",
    "        markersize=5, \n",
    "        labels=\"Depot\", \n",
    "        title=\"Result for different cars\",  \n",
    "        legend = :outertopleft,\n",
    "        format=:png)\n",
    "\n",
    "    # plot all pick-up points\n",
    "    for i=2:N+1\n",
    "        pass_ID = round(Integer, df[i,1])\n",
    "\n",
    "        Plots.scatter!([df[i, 2]], [df[i, 3]],\n",
    "            color=\"lightgreen\", \n",
    "            xlabel=\"x\", ylabel=\"y\",\n",
    "            labels=\"PickUp ID: $pass_ID - $(data[i,4]) passenger(s)\",  \n",
    "            annotations = (df[i, 2], df[i, 3], Plots.text(\"  Pick:$pass_ID\", :left, pointsize=10)),\n",
    "            format=:png,\n",
    "            markersize=5)\n",
    "\n",
    "        Plots.scatter!([df[i+N, 2]], [df[i+N, 3]],\n",
    "            color=\"red\", \n",
    "            xlabel=\"x\", ylabel=\"y\",\n",
    "            labels=\"DropOff ID: $pass_ID - $(data[i,4]) passenger(s)\",  \n",
    "            annotations = (df[i+N, 2], df[i+N, 3], Plots.text(\"  Drop:$pass_ID\", :left, pointsize=10)),\n",
    "            format=:png,\n",
    "            markersize=5)\n",
    "    end\n",
    "\n",
    "    colors = [\"black\", \"red\", \"green\", \"blue\", \"pink\"]\n",
    "    for car in cars_used\n",
    "        vals = findall(x_val[:, :, car] .== 1)\n",
    "        print(vals)\n",
    "        for elem in vals\n",
    "            i,j = elem[1], elem[2]\n",
    "            print(i, \" \", j, \" --> \")\n",
    "            Plots.plot!([df[i, 2], df[j, 2]], [df[i, 3], df[j, 3]], color=colors[car], labels=\"\", textposition=\"bottom left\", linewidth=1, arrow=true, arrowwidth=3, format=:png)\n",
    "        end\n",
    "        \n",
    "        # for i in 1:2*N+2\n",
    "        #     for j in 1:2*N+2\n",
    "        #         if x_val[i, j, car] == 1\n",
    "        #             print(i, \" \", j, \" --> \")\n",
    "        #             Plots.plot!([df[i, 2], df[j, 2]], [df[i, 3], df[j, 3]], color=colors[car], labels=\"\", textposition=\"bottom left\", linewidth=1, arrow=true, arrowwidth=3, format=:png)\n",
    "        #         end\n",
    "        #     end\n",
    "        # end\n",
    "    end\n",
    "\n",
    "    # plot the depot\n",
    "    Plots.scatter!([df[1, 2]], [df[2*N+2, 3]], \n",
    "        titlefont=font(20, \"Computer Modern\"), \n",
    "        color=\"black\", \n",
    "        markersize=5, \n",
    "        labels=\"Depot\", \n",
    "        format=:png)\n",
    "\n",
    "end\n"
   ]
  }
 ],
 "metadata": {
  "kernelspec": {
   "display_name": "Julia 1.8.0",
   "language": "julia",
   "name": "julia-1.8"
  },
  "language_info": {
   "file_extension": ".jl",
   "mimetype": "application/julia",
   "name": "julia",
   "version": "1.8.0"
  },
  "orig_nbformat": 4
 },
 "nbformat": 4,
 "nbformat_minor": 2
}
