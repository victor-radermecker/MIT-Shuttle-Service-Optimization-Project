{
 "cells": [
  {
   "cell_type": "markdown",
   "metadata": {},
   "source": [
    "### Welcome to the Data Creation Notebook\n",
    "\n",
    "`Author:` Victor RADERMECKER, Marco ANTONIOLI\n",
    "\n",
    "`Date`: Friday, October 14, 2022.\n",
    "\n",
    "For the data creation of the project, we will use the `Python` programming language. The `Julia` language will be use for the optimization part.\n",
    "\n",
    "*Undergraduates:*\n",
    "\n",
    "- The data about residences can be found here:\n",
    "https://studentlife.mit.edu/housing/undergraduate-housing/residence-halls\n",
    "- Capacities are aviailable here: \n",
    "https://mitguidetoresidences.mit.edu/housing-grid\n",
    "\n",
    "*Graduates:*\n",
    "- The data about residences can be found here: \n",
    "https://studentlife.mit.edu/grad-residences\n",
    "- Capacities are available here:\n",
    "\n"
   ]
  },
  {
   "cell_type": "code",
   "execution_count": 3,
   "metadata": {},
   "outputs": [],
   "source": [
    "import pandas as pd\n",
    "import plotly.express as px"
   ]
  },
  {
   "cell_type": "code",
   "execution_count": 5,
   "metadata": {},
   "outputs": [
    {
     "ename": "ValueError",
     "evalue": "Mime type rendering requires nbformat>=4.2.0 but it is not installed",
     "output_type": "error",
     "traceback": [
      "\u001b[0;31m---------------------------------------------------------------------------\u001b[0m",
      "\u001b[0;31mValueError\u001b[0m                                Traceback (most recent call last)",
      "\u001b[1;32m/Users/victor/My Drive (victorr@mit.edu)/Documents importants/Academic/MIT/Fall/15_093_Optimization/Project/OptimizationProject_DARP/src/data_generation.ipynb Cell 3\u001b[0m in \u001b[0;36m<cell line: 14>\u001b[0;34m()\u001b[0m\n\u001b[1;32m      <a href='vscode-notebook-cell:/Users/victor/My%20Drive%20%28victorr%40mit.edu%29/Documents%20importants/Academic/MIT/Fall/15_093_Optimization/Project/OptimizationProject_DARP/src/data_generation.ipynb#W2sZmlsZQ%3D%3D?line=3'>4</a>\u001b[0m df \u001b[39m=\u001b[39m px\u001b[39m.\u001b[39mdata\u001b[39m.\u001b[39mgapminder()\u001b[39m.\u001b[39mquery(\u001b[39m\"\u001b[39m\u001b[39myear == 2007\u001b[39m\u001b[39m\"\u001b[39m)\n\u001b[1;32m      <a href='vscode-notebook-cell:/Users/victor/My%20Drive%20%28victorr%40mit.edu%29/Documents%20importants/Academic/MIT/Fall/15_093_Optimization/Project/OptimizationProject_DARP/src/data_generation.ipynb#W2sZmlsZQ%3D%3D?line=5'>6</a>\u001b[0m fig \u001b[39m=\u001b[39m px\u001b[39m.\u001b[39mscatter_geo(\n\u001b[1;32m      <a href='vscode-notebook-cell:/Users/victor/My%20Drive%20%28victorr%40mit.edu%29/Documents%20importants/Academic/MIT/Fall/15_093_Optimization/Project/OptimizationProject_DARP/src/data_generation.ipynb#W2sZmlsZQ%3D%3D?line=6'>7</a>\u001b[0m     df,\n\u001b[1;32m      <a href='vscode-notebook-cell:/Users/victor/My%20Drive%20%28victorr%40mit.edu%29/Documents%20importants/Academic/MIT/Fall/15_093_Optimization/Project/OptimizationProject_DARP/src/data_generation.ipynb#W2sZmlsZQ%3D%3D?line=7'>8</a>\u001b[0m     locations\u001b[39m=\u001b[39m\u001b[39m\"\u001b[39m\u001b[39miso_alpha\u001b[39m\u001b[39m\"\u001b[39m,\n\u001b[0;32m   (...)\u001b[0m\n\u001b[1;32m     <a href='vscode-notebook-cell:/Users/victor/My%20Drive%20%28victorr%40mit.edu%29/Documents%20importants/Academic/MIT/Fall/15_093_Optimization/Project/OptimizationProject_DARP/src/data_generation.ipynb#W2sZmlsZQ%3D%3D?line=11'>12</a>\u001b[0m     projection\u001b[39m=\u001b[39m\u001b[39m\"\u001b[39m\u001b[39mnatural earth\u001b[39m\u001b[39m\"\u001b[39m,\n\u001b[1;32m     <a href='vscode-notebook-cell:/Users/victor/My%20Drive%20%28victorr%40mit.edu%29/Documents%20importants/Academic/MIT/Fall/15_093_Optimization/Project/OptimizationProject_DARP/src/data_generation.ipynb#W2sZmlsZQ%3D%3D?line=12'>13</a>\u001b[0m )\n\u001b[0;32m---> <a href='vscode-notebook-cell:/Users/victor/My%20Drive%20%28victorr%40mit.edu%29/Documents%20importants/Academic/MIT/Fall/15_093_Optimization/Project/OptimizationProject_DARP/src/data_generation.ipynb#W2sZmlsZQ%3D%3D?line=13'>14</a>\u001b[0m fig\u001b[39m.\u001b[39;49mshow()\n",
      "File \u001b[0;32m/opt/homebrew/Caskroom/miniconda/base/envs/optim_env/lib/python3.10/site-packages/plotly/basedatatypes.py:3398\u001b[0m, in \u001b[0;36mBaseFigure.show\u001b[0;34m(self, *args, **kwargs)\u001b[0m\n\u001b[1;32m   3365\u001b[0m \u001b[39m\"\"\"\u001b[39;00m\n\u001b[1;32m   3366\u001b[0m \u001b[39mShow a figure using either the default renderer(s) or the renderer(s)\u001b[39;00m\n\u001b[1;32m   3367\u001b[0m \u001b[39mspecified by the renderer argument\u001b[39;00m\n\u001b[0;32m   (...)\u001b[0m\n\u001b[1;32m   3394\u001b[0m \u001b[39mNone\u001b[39;00m\n\u001b[1;32m   3395\u001b[0m \u001b[39m\"\"\"\u001b[39;00m\n\u001b[1;32m   3396\u001b[0m \u001b[39mimport\u001b[39;00m \u001b[39mplotly\u001b[39;00m\u001b[39m.\u001b[39;00m\u001b[39mio\u001b[39;00m \u001b[39mas\u001b[39;00m \u001b[39mpio\u001b[39;00m\n\u001b[0;32m-> 3398\u001b[0m \u001b[39mreturn\u001b[39;00m pio\u001b[39m.\u001b[39;49mshow(\u001b[39mself\u001b[39;49m, \u001b[39m*\u001b[39;49margs, \u001b[39m*\u001b[39;49m\u001b[39m*\u001b[39;49mkwargs)\n",
      "File \u001b[0;32m/opt/homebrew/Caskroom/miniconda/base/envs/optim_env/lib/python3.10/site-packages/plotly/io/_renderers.py:396\u001b[0m, in \u001b[0;36mshow\u001b[0;34m(fig, renderer, validate, **kwargs)\u001b[0m\n\u001b[1;32m    391\u001b[0m         \u001b[39mraise\u001b[39;00m \u001b[39mValueError\u001b[39;00m(\n\u001b[1;32m    392\u001b[0m             \u001b[39m\"\u001b[39m\u001b[39mMime type rendering requires ipython but it is not installed\u001b[39m\u001b[39m\"\u001b[39m\n\u001b[1;32m    393\u001b[0m         )\n\u001b[1;32m    395\u001b[0m     \u001b[39mif\u001b[39;00m \u001b[39mnot\u001b[39;00m nbformat \u001b[39mor\u001b[39;00m LooseVersion(nbformat\u001b[39m.\u001b[39m__version__) \u001b[39m<\u001b[39m LooseVersion(\u001b[39m\"\u001b[39m\u001b[39m4.2.0\u001b[39m\u001b[39m\"\u001b[39m):\n\u001b[0;32m--> 396\u001b[0m         \u001b[39mraise\u001b[39;00m \u001b[39mValueError\u001b[39;00m(\n\u001b[1;32m    397\u001b[0m             \u001b[39m\"\u001b[39m\u001b[39mMime type rendering requires nbformat>=4.2.0 but it is not installed\u001b[39m\u001b[39m\"\u001b[39m\n\u001b[1;32m    398\u001b[0m         )\n\u001b[1;32m    400\u001b[0m     ipython_display\u001b[39m.\u001b[39mdisplay(bundle, raw\u001b[39m=\u001b[39m\u001b[39mTrue\u001b[39;00m)\n\u001b[1;32m    402\u001b[0m \u001b[39m# external renderers\u001b[39;00m\n",
      "\u001b[0;31mValueError\u001b[0m: Mime type rendering requires nbformat>=4.2.0 but it is not installed"
     ]
    }
   ],
   "source": [
    "# Plot a map of Cambridge / MIT\n",
    "\n",
    "\n",
    "\n",
    "\n",
    "\n",
    "fig = px.scatter_geo(\n",
    "    df,\n",
    "    locations=\"iso_alpha\",\n",
    "    color=\"continent\",  # which column to use to set the color of markers\n",
    "    hover_name=\"country\",  # column added to hover information\n",
    "    size=\"pop\",  # size of markers\n",
    "    projection=\"natural earth\",\n",
    ")\n",
    "fig.show()\n"
   ]
  },
  {
   "cell_type": "code",
   "execution_count": null,
   "metadata": {},
   "outputs": [],
   "source": []
  }
 ],
 "metadata": {
  "kernelspec": {
   "display_name": "Python 3.10.6 ('optim_env')",
   "language": "python",
   "name": "python3"
  },
  "language_info": {
   "codemirror_mode": {
    "name": "ipython",
    "version": 3
   },
   "file_extension": ".py",
   "mimetype": "text/x-python",
   "name": "python",
   "nbconvert_exporter": "python",
   "pygments_lexer": "ipython3",
   "version": "3.10.6"
  },
  "orig_nbformat": 4,
  "vscode": {
   "interpreter": {
    "hash": "47fe5effe95bc4486b2b552394ae2aa95aa0338880c0f05d417b502ddec62622"
   }
  }
 },
 "nbformat": 4,
 "nbformat_minor": 2
}
