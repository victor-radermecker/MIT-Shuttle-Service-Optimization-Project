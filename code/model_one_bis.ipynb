{
 "cells": [
  {
   "cell_type": "code",
   "execution_count": 1,
   "metadata": {},
   "outputs": [],
   "source": [
    "using DataFrames, CSV\n",
    "using LinearAlgebra, Random, Printf, StatsBase, CategoricalArrays\n",
    "using Plots, StatsPlots, GRUtils\n",
    "using Distributions\n",
    "using Gurobi, JuMP"
   ]
  },
  {
   "cell_type": "code",
   "execution_count": 2,
   "metadata": {},
   "outputs": [],
   "source": [
    "# Constants\n",
    "N = 3 ; # number of passengers\n",
    "K = 3 ;  # number of shuttles"
   ]
  },
  {
   "cell_type": "code",
   "execution_count": 3,
   "metadata": {},
   "outputs": [
    {
     "data": {
      "text/plain": [
       "8×8 Matrix{Float64}:\n",
       " 1.2  4.0  1.2  4.5  1.2  0.9  1.2   0.9\n",
       " 3.0  3.0  3.2  1.4  1.6  0.6  0.7   0.5\n",
       " 1.4  5.0  4.6  1.9  3.8  3.0  0.4   0.2\n",
       " 1.9  2.0  1.9  2.5  2.5  5.0  1.8   1.5\n",
       " 2.5  1.0  2.4  1.2  6.2  2.0  1.3   1.7\n",
       " 1.2  5.0  1.9  4.0  4.5  1.2  0.9   1.2\n",
       " 4.0  2.0  2.5  2.0  2.1  2.4  6.5  18.3\n",
       " 2.0  1.0  1.2  3.0  3.0  5.0  4.6   1.9"
      ]
     },
     "execution_count": 3,
     "metadata": {},
     "output_type": "execute_result"
    }
   ],
   "source": [
    "# Use this cost later to load costs from BingsMap. For now, we will simply use the euclidian distance as shown below.\n",
    "c = Matrix(DataFrame(CSV.File(\"../SimulatedCosts.csv\")))\n",
    "c = c[:, 2:size(c)[2]];\n",
    "\n",
    "t = c  #let's consider in this initial model that the travel cost and the time and equivalent. "
   ]
  },
  {
   "cell_type": "code",
   "execution_count": 4,
   "metadata": {},
   "outputs": [
    {
     "data": {
      "text/plain": [
       "8×8 Matrix{Float64}:\n",
       " 0.0       0.291247  0.150659  0.743121  …  0.693661  1.31528   0.0\n",
       " 0.291247  0.0       0.326118  0.620831     0.488037  1.03742   0.291247\n",
       " 0.150659  0.326118  0.0       0.869122     0.789801  1.28146   0.150659\n",
       " 0.743121  0.620831  0.869122  0.0          0.238253  1.26881   0.743121\n",
       " 0.668374  0.379722  0.697821  0.585946     0.353577  0.733003  0.668374\n",
       " 0.693661  0.488037  0.789801  0.238253  …  0.0       1.03335   0.693661\n",
       " 1.31528   1.03742   1.28146   1.26881      1.03335   0.0       1.31528\n",
       " 0.0       0.291247  0.150659  0.743121     0.693661  1.31528   0.0"
      ]
     },
     "execution_count": 4,
     "metadata": {},
     "output_type": "execute_result"
    }
   ],
   "source": [
    "# Data\n",
    "data = Matrix(DataFrame(CSV.File(\"../data/SimulatedDataTest.csv\")));\n",
    "\n",
    "q = data[1:2*N+2, 4];\n",
    "d = data[1:2*N+2, 5] / 10;\n",
    "e = data[1:2*N+2, 7];\n",
    "l = data[1:2*N+2, 8];\n",
    "\n",
    "#compute costs/time as euclidian distance.\n",
    "c = zeros(2 * N + 2, 2 * N + 2)\n",
    "for i = 1:2*N+2\n",
    "    for j = 1:2*N+2\n",
    "        c[i, j] = norm(data[i, 2:3] - data[j, 2:3]) / 10\n",
    "    end\n",
    "end\n",
    "\n",
    "t = c  #let's consider in this initial model that the travel cost and the time and equivalent. "
   ]
  },
  {
   "cell_type": "markdown",
   "metadata": {},
   "source": [
    "### The model"
   ]
  },
  {
   "cell_type": "code",
   "execution_count": 5,
   "metadata": {},
   "outputs": [
    {
     "name": "stdout",
     "output_type": "stream",
     "text": [
      "Set parameter Username\n",
      "Academic license - for non-commercial use only - expires 2023-08-17\n"
     ]
    }
   ],
   "source": [
    "model = Model(Gurobi.Optimizer)\n",
    "\n",
    "V = [1, 2, 3, 4, 5, 6, 7, 8]   # all vertices\n",
    "P = [2, 3, 4]             # pick up vertices\n",
    "D = [5, 6, 7]             # drop off vertices\n",
    "PUD = [2, 3, 4, 5, 6, 7]     # all pick up and drop off vertices together (all vertices except depot)\n",
    "\n",
    "T = [100, 100, 100]       # maximum duration of route k\n",
    "L = 100                  # maximum time of a drive\n",
    "Q = [3, 3, 3]             # capacity of each car\n",
    "\n",
    "# Variables\n",
    "@variable(model, x[1:2*N+2, 1:2*N+2, 1:K] >= 0, Bin)   # x[i, j, k] = 1 if we go from node i to node j with vehicle k.\n",
    "@variable(model, w[1:2*N+2, 1:K] >= 0, Int)            # w[i,k] load of vehicle k when arriving upon leaving vertex i\n",
    "@variable(model, r[1:N] >= 0)                          # r[i,k] travel time of passenger i (Note that passenger i is identified by) the vertex i+1\n",
    "\n",
    "@variable(model, u[1:2*N+2, 1:K] >= 0)                 # u[i,k] time as which the vertex i is served by vehicle k\n",
    "\n",
    "#############  Constraints  #############\n",
    "\n",
    "# only one car can bring passenger {i, i+N} to its final destination.\n",
    "@constraint(model, [i in P], sum(sum(x[i, j, k] for j in V) for k = 1:K) == 1)\n",
    "\n",
    "# each vehicle starts at the depot\n",
    "@constraint(model, [k = 1:K], sum(x[1, j, k] for j in V) == 1)\n",
    "\n",
    "# each vehicle ends at the depot\n",
    "@constraint(model, [k = 1:K], sum(x[i, 2*N+2, k] for i in V) == 1)\n",
    "\n",
    "# each passenger is picked and droped by the same car\n",
    "@constraint(model, [i in P, k = 1:K], sum(x[i, j, k] for j in V) - sum(x[i+N, j, k] for j in V) == 0)\n",
    "\n",
    "# vehicle k follows the edges sequentially\n",
    "@constraint(model, [i in PUD, k = 1:K], sum(x[j, i, k] for j in V) - sum(x[i, j, k] for j in V) == 0)\n",
    "\n",
    "# PREVIOUS the time served of vertex i\n",
    "@constraint(model, [i in V, j in V, k = 1:K], u[j, k] >= (u[i, k] + d[i] + t[i, j]) * x[i, j, k])\n",
    "\n",
    "# updating the load of the vehicle\n",
    "@constraint(model, [i in V, j in V, k = 1:K], w[j, k] >= (w[i, k] + q[j]) * x[i, j, k])\n",
    "\n",
    "# updating the travel time of passenger i\n",
    "@constraint(model, [i in P, k = 1:K], r[i-1] == u[N+i, k] - (u[i, k] + d[i]))\n",
    "\n",
    "# respecting the total length of a trip\n",
    "@constraint(model, [k = 1:K], u[2*N+2,k] - u[1,k] >= 0) # NEW\n",
    "@constraint(model, [k = 1:K], u[2*N+2,k] - u[1,k] <= T[k])\n",
    "\n",
    "\n",
    "# respecting travel window of passenger i\n",
    "@constraint(model, [i in V, k = 1:K], e[i] <= u[i,k])\n",
    "@constraint(model, [i in V, k = 1:K], u[i,k] <= l[i])\n",
    "\n",
    "# respecting travel window of passenger i\n",
    "@constraint(model, [i in P], t[i,i+N] <= r[i-1])\n",
    "@constraint(model, [i in P], r[i-1] <= L)\n",
    "\n",
    "# respecting each car's capacity\n",
    "@constraint(model, [i in V, k = 1:K], max(0, q[i]) <= w[i, k])\n",
    "@constraint(model, [i in V, k = 1:K], w[i, k] <= min(Q[k], Q[k] + q[i]))\n",
    "\n",
    "# CORRECTION: ---> Let's try to fix the load problem: the load was not null for the useless cars. This was fixed.\n",
    "# @constraint(model, [i in V, k = 1:K], sum(x[:,i,k])*q[i] <= w[i, k])\n",
    "# @constraint(model, [i in V, k = 1:K], 0 <= w[i, k])\n",
    "\n",
    "# @constraint(model, [i in V, k = 1:K], w[i, k] <= sum(x[:,i,k])*Q[k])\n",
    "# @constraint(model, [i in V, k = 1:K], w[i, k] <= Q[k] + sum(x[:,i,k])*q[i])\n",
    "\n",
    "\n",
    "### --- ADDITIONAL CONSTRAINTS -----\n",
    "\n",
    "# Pick up before drop off\n",
    "# @constraint(model, [i=1:N+1, k=1:K], u[i,k] <= u[N+i,k])\n",
    "\n",
    "# # No passengers at the beginning / end\n",
    "# @constraint(model, [k = 1:K], w[1, k] == 0)\n",
    "# @constraint(model, [k = 1:K], w[2*N+2, k] == 0)\n",
    "\n",
    "# objective\n",
    "@objective(model, Min, sum(sum(sum(c[i, j] * x[i, j, k] for k = 1:K) for i in V) for j in V));\n",
    "\n",
    "# Objective with a penalty function in the ride time and on the load of each car\n",
    "# @objective(model, Min, sum(sum(sum(c[i, j] * x[i, j, k] for k = 1:K) for i in V) for j in V) + sum(w) + sum(u) + sum(u_depot) + sum(x));"
   ]
  },
  {
   "cell_type": "code",
   "execution_count": 6,
   "metadata": {},
   "outputs": [
    {
     "name": "stdout",
     "output_type": "stream",
     "text": [
      "Gurobi Optimizer version 9.5.2 build v9.5.2rc0 (mac64[arm])\n",
      "Thread count: 10 physical cores, 10 logical processors, using up to 10 threads\n",
      "Optimize a model with 153 rows, 243 columns and 657 nonzeros\n",
      "Model fingerprint: 0x1ed54140\n",
      "Model has 384 quadratic constraints\n",
      "Variable types: 27 continuous, 216 integer (192 binary)\n",
      "Coefficient statistics:\n",
      "  Matrix range     [1e+00, 1e+00]\n",
      "  QMatrix range    [1e+00, 1e+00]\n",
      "  QLMatrix range   [5e-02, 3e+00]\n",
      "  Objective range  [2e-01, 1e+00]\n",
      "  Bounds range     [0e+00, 0e+00]\n",
      "  RHS range        [5e-02, 1e+03]\n",
      "Presolve added 102 rows and 0 columns\n",
      "Presolve removed 0 rows and 51 columns\n",
      "Presolve time: 0.00s\n",
      "Presolved: 339 rows, 234 columns, 1488 nonzeros\n",
      "Variable types: 39 continuous, 195 integer (147 binary)\n",
      "\n",
      "Root relaxation: objective 2.826323e+00, 52 iterations, 0.00 seconds (0.00 work units)\n",
      "\n",
      "    Nodes    |    Current Node    |     Objective Bounds      |     Work\n",
      " Expl Unexpl |  Obj  Depth IntInf | Incumbent    BestBd   Gap | It/Node Time\n",
      "\n",
      "     0     0    2.82632    0   16          -    2.82632      -     -    0s\n",
      "H    0     0                       6.1794602    2.82632  54.3%     -    0s\n",
      "     0     0    2.82938    0   20    6.17946    2.82938  54.2%     -    0s\n",
      "     0     0    3.05536    0   15    6.17946    3.05536  50.6%     -    0s\n",
      "     0     0    3.28440    0   14    6.17946    3.28440  46.8%     -    0s\n",
      "     0     0    3.28440    0   15    6.17946    3.28440  46.8%     -    0s\n",
      "     0     0    3.28440    0   15    6.17946    3.28440  46.8%     -    0s\n",
      "     0     0    3.28440    0   15    6.17946    3.28440  46.8%     -    0s\n",
      "     0     0    3.28440    0   18    6.17946    3.28440  46.8%     -    0s\n",
      "     0     0    3.28440    0   14    6.17946    3.28440  46.8%     -    0s\n",
      "     0     2    3.28440    0   14    6.17946    3.28440  46.8%     -    0s\n",
      "H   44    33                       5.2416004    3.30774  36.9%  13.4    0s\n",
      "*  172    51               7       4.2275435    3.38589  19.9%   7.8    0s\n",
      "\n",
      "Cutting planes:\n",
      "  Learned: 1\n",
      "  Gomory: 2\n",
      "  Implied bound: 19\n",
      "  MIR: 7\n",
      "  RLT: 11\n",
      "  Relax-and-lift: 1\n",
      "\n",
      "Explored 325 nodes (2826 simplex iterations) in 0.10 seconds (0.09 work units)\n",
      "Thread count was 10 (of 10 available processors)\n",
      "\n",
      "Solution count 3: 4.22754 5.2416 6.17946 \n",
      "\n",
      "Optimal solution found (tolerance 1.00e-04)\n",
      "Best objective 4.227543482722e+00, best bound 4.227543482722e+00, gap 0.0000%\n",
      "\n",
      "User-callback calls 1129, time in user-callback 0.00 sec\n"
     ]
    }
   ],
   "source": [
    "optimize!(model)"
   ]
  },
  {
   "cell_type": "code",
   "execution_count": 7,
   "metadata": {},
   "outputs": [
    {
     "data": {
      "text/plain": [
       "8×3 Matrix{Float64}:\n",
       "  0.0      0.0      0.0\n",
       "  2.0      5.79888  2.0\n",
       " 10.0      4.0      4.0\n",
       "  0.0      5.12805  0.0\n",
       "  2.42972  6.22861  2.42972\n",
       " 10.8398   4.8398   4.8398\n",
       "  1.88356  7.01161  1.88356\n",
       "  0.0      8.37688  0.0"
      ]
     },
     "execution_count": 7,
     "metadata": {},
     "output_type": "execute_result"
    }
   ],
   "source": [
    "u_values = value.(u)"
   ]
  },
  {
   "cell_type": "code",
   "execution_count": 8,
   "metadata": {},
   "outputs": [
    {
     "data": {
      "text/plain": [
       "3-element Vector{Float64}:\n",
       " 0.3797222669267632\n",
       " 0.7898006077485633\n",
       " 1.833556341292761"
      ]
     },
     "execution_count": 8,
     "metadata": {},
     "output_type": "execute_result"
    }
   ],
   "source": [
    "r_values = value.(r)"
   ]
  },
  {
   "cell_type": "code",
   "execution_count": 9,
   "metadata": {},
   "outputs": [
    {
     "data": {
      "text/plain": [
       "0.3797222669267632"
      ]
     },
     "execution_count": 9,
     "metadata": {},
     "output_type": "execute_result"
    }
   ],
   "source": [
    "t[2, 5]"
   ]
  },
  {
   "cell_type": "code",
   "execution_count": 10,
   "metadata": {},
   "outputs": [
    {
     "data": {
      "text/plain": [
       "8×3 Matrix{Int64}:\n",
       " 3  0  3\n",
       " 3  2  1\n",
       " 3  3  3\n",
       " 1  1  1\n",
       " 2  1  0\n",
       " 0  0  0\n",
       " 2  0  0\n",
       " 0  0  0"
      ]
     },
     "execution_count": 10,
     "metadata": {},
     "output_type": "execute_result"
    }
   ],
   "source": [
    "w_values = round.(Int, value.(w))"
   ]
  },
  {
   "cell_type": "code",
   "execution_count": 11,
   "metadata": {},
   "outputs": [
    {
     "data": {
      "text/plain": [
       "plot_route (generic function with 1 method)"
      ]
     },
     "execution_count": 11,
     "metadata": {},
     "output_type": "execute_result"
    }
   ],
   "source": [
    "function plot_route(df, x_val, w_val, plot_size)\n",
    "    \n",
    "    # df: dataframe containing all the input data:\n",
    "    #     column 1: Passenger ID\n",
    "    #     column 2: PickUp/DropOff Pos_x\n",
    "    #     column 3: PickUp/DropOff Pos_y\n",
    "    #     column 4: load (number of passengers to embark)\n",
    "    #     column 5: service duration (embark time)\n",
    "    #     column 6: preferred pick up time\n",
    "    #     column 7: lower bound of pick up time\n",
    "    #     column 8: upper bound of pick up time\n",
    "\n",
    "    # car_nbr: the vehicle number to plot\n",
    "\n",
    "    # x_val: the values of x\n",
    "    \n",
    "    #constants \n",
    "    N = round(Int,(size(df)[1]-2)/2)\n",
    "\n",
    "    cars_used = findall([sum(x_val[:,:,i]) for i=1:size(x_val)[3]] .> 2)\n",
    "    print(cars_used)\n",
    "    \n",
    "    println(\"Number of cars used: $(sum(cars_used))\")\n",
    "    println(\"The car(s) used are(is): \", cars_used)\n",
    "\n",
    "\n",
    "    # plot the depot\n",
    "    Plots.scatter([df[1, 2]], [df[2*N+2, 3]], \n",
    "        size = (plot_size[1], plot_size[2]),\n",
    "        titlefont=font(20, \"Computer Modern\"), \n",
    "        color=\"black\", \n",
    "        markersize=5, \n",
    "        labels=\"Depot\", \n",
    "        title=\"Result for different cars\",  \n",
    "        legend = :bottomright,\n",
    "        format=:png)\n",
    "\n",
    "    # plot all pick-up points\n",
    "    for i=2:N+1\n",
    "        pass_ID = round(Integer, df[i,1])\n",
    "\n",
    "        Plots.scatter!([df[i, 2]], [df[i, 3]],\n",
    "            color=\"lightgreen\", \n",
    "            xlabel=\"x\", ylabel=\"y\",\n",
    "            labels=\"PickUp ID: $pass_ID - $(data[i,4]) passenger(s)\",  \n",
    "            annotations = (df[i, 2], df[i, 3], Plots.text(\"  Pick:$pass_ID\", :left, pointsize=10)),\n",
    "            format=:png,\n",
    "            markersize=5)\n",
    "\n",
    "        Plots.scatter!([df[i+N, 2]], [df[i+N, 3]],\n",
    "            color=\"red\", \n",
    "            xlabel=\"x\", ylabel=\"y\",\n",
    "            labels=\"DropOff ID: $pass_ID - $(data[i,4]) passenger(s)\",  \n",
    "            annotations = (df[i+N, 2], df[i+N, 3], Plots.text(\"  Drop:$pass_ID\", :left, pointsize=10)),\n",
    "            format=:png,\n",
    "            markersize=5)\n",
    "    end\n",
    "\n",
    "    colors = [\"black\", \"red\", \"green\", \"blue\", \"pink\"]\n",
    "    for car in cars_used\n",
    "        vals = findall(x_val[:, :, car] .== 1)\n",
    "        print(vals)\n",
    "        for elem in vals\n",
    "            i,j = elem[1], elem[2]\n",
    "            print(i, \" \", j, \" --> \")\n",
    "            Plots.plot!([df[i, 2], df[j, 2]], [df[i, 3], df[j, 3]], color=colors[car], labels=\"\", textposition=\"bottom left\", linewidth=1, arrow=true, arrowwidth=3, format=:png)\n",
    "        end\n",
    "        \n",
    "        # for i in 1:2*N+2\n",
    "        #     for j in 1:2*N+2\n",
    "        #         if x_val[i, j, car] == 1\n",
    "        #             print(i, \" \", j, \" --> \")\n",
    "        #             Plots.plot!([df[i, 2], df[j, 2]], [df[i, 3], df[j, 3]], color=colors[car], labels=\"\", textposition=\"bottom left\", linewidth=1, arrow=true, arrowwidth=3, format=:png)\n",
    "        #         end\n",
    "        #     end\n",
    "        # end\n",
    "    end\n",
    "\n",
    "    # plot the depot\n",
    "    Plots.scatter!([df[1, 2]], [df[2*N+2, 3]], \n",
    "        titlefont=font(20, \"Computer Modern\"), \n",
    "        color=\"black\", \n",
    "        markersize=5, \n",
    "        labels=\"Depot\", \n",
    "        format=:png)\n",
    "\n",
    "end\n"
   ]
  },
  {
   "cell_type": "code",
   "execution_count": 12,
   "metadata": {},
   "outputs": [
    {
     "name": "stdout",
     "output_type": "stream",
     "text": [
      "[2]Number of cars used: 2\n",
      "The car(s) used are(is): [2]\n",
      "CartesianIndex{2}[CartesianIndex(4, 2), CartesianIndex(1, 3), CartesianIndex(6, 4), CartesianIndex(2, 5), CartesianIndex(3, 6), CartesianIndex(5, 7), CartesianIndex(7, 8)]4 2 --> 1 3 --> 6 4 --> 2 5 --> 3 6 --> 5 7 --> 7 8 --> "
     ]
    },
    {
     "data": {
      "image/png": "[encoded data removed]"
     },
     "execution_count": 12,
     "metadata": {},
     "output_type": "execute_result"
    }
   ],
   "source": [
    "x_values = round.(Int, value.(x))\n",
    "w_values = round.(Int, value.(w))\n",
    "\n",
    "plot_route(data, x_values, w_values, [1100, 650])"
   ]
  },
  {
   "cell_type": "code",
   "execution_count": 13,
   "metadata": {},
   "outputs": [
    {
     "data": {
      "text/plain": [
       "7-element Vector{CartesianIndex{2}}:\n",
       " CartesianIndex(4, 2)\n",
       " CartesianIndex(1, 3)\n",
       " CartesianIndex(6, 4)\n",
       " CartesianIndex(2, 5)\n",
       " CartesianIndex(3, 6)\n",
       " CartesianIndex(5, 7)\n",
       " CartesianIndex(7, 8)"
      ]
     },
     "execution_count": 13,
     "metadata": {},
     "output_type": "execute_result"
    }
   ],
   "source": [
    "findall(x_values[:, :, 2] .== 1)"
   ]
  },
  {
   "cell_type": "code",
   "execution_count": 14,
   "metadata": {},
   "outputs": [
    {
     "data": {
      "text/plain": [
       "8×8×3 Array{Int64, 3}:\n",
       "[:, :, 1] =\n",
       " 1  0  0  0  0  0  0  0\n",
       " 0  0  0  0  0  0  0  0\n",
       " 0  0  0  0  0  0  0  0\n",
       " 0  0  0  0  0  0  0  0\n",
       " 0  0  0  0  0  0  0  0\n",
       " 0  0  0  0  0  0  0  0\n",
       " 0  0  0  0  0  0  0  0\n",
       " 0  0  0  0  0  0  0  1\n",
       "\n",
       "[:, :, 2] =\n",
       " 0  0  1  0  0  0  0  0\n",
       " 0  0  0  0  1  0  0  0\n",
       " 0  0  0  0  0  1  0  0\n",
       " 0  1  0  0  0  0  0  0\n",
       " 0  0  0  0  0  0  1  0\n",
       " 0  0  0  1  0  0  0  0\n",
       " 0  0  0  0  0  0  0  1\n",
       " 0  0  0  0  0  0  0  0\n",
       "\n",
       "[:, :, 3] =\n",
       " 1  0  0  0  0  0  0  0\n",
       " 0  0  0  0  0  0  0  0\n",
       " 0  0  0  0  0  0  0  0\n",
       " 0  0  0  0  0  0  0  0\n",
       " 0  0  0  0  0  0  0  0\n",
       " 0  0  0  0  0  0  0  0\n",
       " 0  0  0  0  0  0  0  0\n",
       " 0  0  0  0  0  0  0  1"
      ]
     },
     "execution_count": 14,
     "metadata": {},
     "output_type": "execute_result"
    }
   ],
   "source": [
    "x_values = round.(Int, value.(x))"
   ]
  },
  {
   "cell_type": "code",
   "execution_count": null,
   "metadata": {},
   "outputs": [],
   "source": []
  },
  {
   "cell_type": "code",
   "execution_count": 15,
   "metadata": {},
   "outputs": [
    {
     "name": "stdout",
     "output_type": "stream",
     "text": [
      "1111111"
     ]
    }
   ],
   "source": [
    "vals = findall(x_values[:, :, 2] .== 1)\n",
    "\n",
    "for elem in vals\n",
    "    print(x_values[elem, 2])\n",
    "end"
   ]
  },
  {
   "cell_type": "code",
   "execution_count": 16,
   "metadata": {},
   "outputs": [
    {
     "data": {
      "text/plain": [
       "7-element Vector{CartesianIndex{2}}:\n",
       " CartesianIndex(4, 2)\n",
       " CartesianIndex(1, 3)\n",
       " CartesianIndex(6, 4)\n",
       " CartesianIndex(2, 5)\n",
       " CartesianIndex(3, 6)\n",
       " CartesianIndex(5, 7)\n",
       " CartesianIndex(7, 8)"
      ]
     },
     "execution_count": 16,
     "metadata": {},
     "output_type": "execute_result"
    }
   ],
   "source": [
    "vals"
   ]
  },
  {
   "cell_type": "code",
   "execution_count": null,
   "metadata": {},
   "outputs": [],
   "source": []
  }
 ],
 "metadata": {
  "kernelspec": {
   "display_name": "Julia 1.8.0",
   "language": "julia",
   "name": "julia-1.8"
  },
  "language_info": {
   "file_extension": ".jl",
   "mimetype": "application/julia",
   "name": "julia",
   "version": "1.8.0"
  },
  "orig_nbformat": 4,
  "vscode": {
   "interpreter": {
    "hash": "b0fa6594d8f4cbf19f97940f81e996739fb7646882a419484c72d19e05852a7e"
   }
  }
 },
 "nbformat": 4,
 "nbformat_minor": 2
}
