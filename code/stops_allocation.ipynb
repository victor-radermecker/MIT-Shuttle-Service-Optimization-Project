{
 "cells": [
  {
   "cell_type": "code",
   "execution_count": 7,
   "metadata": {},
   "outputs": [],
   "source": [
    "using Gurobi, JuMP, Random"
   ]
  },
  {
   "cell_type": "code",
   "execution_count": 28,
   "metadata": {},
   "outputs": [
    {
     "data": {
      "text/plain": [
       "allocation (generic function with 1 method)"
      ]
     },
     "execution_count": 28,
     "metadata": {},
     "output_type": "execute_result"
    }
   ],
   "source": [
    "function allocation(candidate_stops, places, capacities, J)\n",
    "    model = Model(Gurobi.Optimizer)\n",
    "    set_optimizer_attribute(model, \"OutputFlag\", 0)\n",
    "\n",
    "    n, p = size(places)[1], size(candidate_stops)[1]\n",
    "\n",
    "    @variable(model, z[j=1:p] >= 0, Bin)\n",
    "\n",
    "    distance = sqrt.((places[i,1] - candidate_stops[j,1]).^2 + (places[i,2] - candidate_stops[j,2]).^2 for i=1:n, j=1:p)\n",
    "    w = 1 ./ (capacities)\n",
    "\n",
    "    @constraint(model, sum(z) == J)\n",
    "\n",
    "    @objective(model, Min, sum(distance[i,j] * w[i] * z[j] for i=1:n, j=1:p))\n",
    "    optimize!(model)\n",
    "    return value.(z)\n",
    "end"
   ]
  },
  {
   "cell_type": "markdown",
   "metadata": {},
   "source": [
    "Try on random data, then talk with victor to apply on real coordinates"
   ]
  },
  {
   "cell_type": "code",
   "execution_count": 29,
   "metadata": {},
   "outputs": [],
   "source": [
    "candidate_stops = rand(Float64, (10,2))\n",
    "places = rand(Float64, (20,2))\n",
    "capacities = rand((50:500),(20,1))\n",
    "J = 5;"
   ]
  },
  {
   "cell_type": "code",
   "execution_count": 30,
   "metadata": {},
   "outputs": [
    {
     "name": "stdout",
     "output_type": "stream",
     "text": [
      "Set parameter Username\n",
      "Academic license - for non-commercial use only - expires 2023-08-18\n"
     ]
    },
    {
     "data": {
      "text/plain": [
       "10-element Vector{Float64}:\n",
       " 0.0\n",
       " 0.0\n",
       " 1.0\n",
       " 1.0\n",
       " 1.0\n",
       " 0.0\n",
       " 1.0\n",
       " 0.0\n",
       " 0.0\n",
       " 1.0"
      ]
     },
     "execution_count": 30,
     "metadata": {},
     "output_type": "execute_result"
    }
   ],
   "source": [
    "allocation(candidate_stops, places, capacities, J)"
   ]
  }
 ],
 "metadata": {
  "kernelspec": {
   "display_name": "Julia 1.8.0",
   "language": "julia",
   "name": "julia-1.8"
  },
  "language_info": {
   "file_extension": ".jl",
   "mimetype": "application/julia",
   "name": "julia",
   "version": "1.8.0"
  },
  "orig_nbformat": 4
 },
 "nbformat": 4,
 "nbformat_minor": 2
}
